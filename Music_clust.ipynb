{
  "nbformat": 4,
  "nbformat_minor": 0,
  "metadata": {
    "colab": {
      "name": "Music_clust.ipynb",
      "provenance": [],
      "collapsed_sections": [
        "Uyc0YphBCD0L",
        "rxm7VKNaFngc"
      ],
      "toc_visible": true,
      "include_colab_link": true
    },
    "kernelspec": {
      "display_name": "Python 3",
      "name": "python3"
    },
    "language_info": {
      "name": "python"
    }
  },
  "cells": [
    {
      "cell_type": "markdown",
      "metadata": {
        "id": "view-in-github",
        "colab_type": "text"
      },
      "source": [
        "<a href=\"https://colab.research.google.com/github/Kate-Cher/BI_ML_python_2021/blob/main/Music_clust.ipynb\" target=\"_parent\"><img src=\"https://colab.research.google.com/assets/colab-badge.svg\" alt=\"Open In Colab\"/></a>"
      ]
    },
    {
      "cell_type": "markdown",
      "metadata": {
        "id": "A1_AlHxUapdd"
      },
      "source": [
        "# Music clusterization and classification\n",
        "\n",
        "This project is focused on music clusterization and classification.\n",
        "\n",
        "The authors:\n",
        "* Anna Rybina\n",
        "* Ekaterina Chernyavskaya\n",
        "* Daria Nikanorova\n",
        "* Eugenia Ivanova\n",
        "* Maxim Serdakov "
      ]
    },
    {
      "cell_type": "markdown",
      "metadata": {
        "id": "QcDqZhj4GqmB"
      },
      "source": [
        "# Packages and libraries"
      ]
    },
    {
      "cell_type": "code",
      "metadata": {
        "colab": {
          "base_uri": "https://localhost:8080/"
        },
        "id": "4sqIt-7ta0oh",
        "outputId": "df9b6fa6-0f18-4f64-869c-5583492185d0"
      },
      "source": [
        "!pip install Levenshtein -qq\n",
        "! pip install scikit-multilearn -qq\n",
        "! pip install arff -qq"
      ],
      "execution_count": 3,
      "outputs": [
        {
          "output_type": "stream",
          "text": [
            "\u001b[K     |████████████████████████████████| 163kB 5.3MB/s \n",
            "\u001b[K     |████████████████████████████████| 92kB 3.8MB/s \n",
            "\u001b[?25h  Building wheel for arff (setup.py) ... \u001b[?25l\u001b[?25hdone\n"
          ],
          "name": "stdout"
        }
      ]
    },
    {
      "cell_type": "code",
      "metadata": {
        "id": "c_shulj-aZur"
      },
      "source": [
        "from Levenshtein import distance\n",
        "import numpy as np\n",
        "import pandas as pd\n",
        "from collections import Counter\n",
        "import librosa\n",
        "import IPython.display as ipd\n",
        "import matplotlib.pyplot as plt\n",
        "from matplotlib import cm, colors\n",
        "import librosa.display\n",
        "import sklearn\n",
        "import os\n",
        "import csv\n",
        "from sklearn.model_selection import train_test_split\n",
        "import seaborn as sns\n",
        "sns.set(style=\"white\")\n",
        "\n",
        "from sklearn import decomposition\n",
        "from sklearn import metrics\n",
        "\n",
        "from scipy.cluster import hierarchy\n",
        "from scipy.spatial.distance import pdist\n",
        "\n",
        "from sklearn.tree import DecisionTreeClassifier\n",
        "from sklearn.model_selection import GridSearchCV, RandomizedSearchCV, StratifiedKFold\n",
        "from sklearn.linear_model import LogisticRegression\n",
        "from sklearn.ensemble import RandomForestClassifier\n",
        "\n",
        "from sklearn.preprocessing import Normalizer\n",
        "from sklearn.cluster import KMeans\n",
        "from sklearn.metrics import adjusted_rand_score, adjusted_mutual_info_score, silhouette_score, v_measure_score\n",
        "\n",
        "# KNN classification\n",
        "from sklearn.neighbors import KNeighborsClassifier\n",
        "from sklearn.model_selection import cross_val_score, GridSearchCV, train_test_split\n",
        "from sklearn.decomposition import PCA\n",
        "from sklearn.preprocessing import StandardScaler\n",
        "from sklearn.pipeline import Pipeline\n",
        "from sklearn.metrics import classification_report, confusion_matrix\n",
        "from sklearn.multioutput import ClassifierChain\n",
        "\n",
        "# Additional packages to preprocess data for keras model\n",
        "from sklearn.preprocessing import LabelEncoder\n",
        "\n",
        "# Additionl packages to set random seed for keras model\n",
        "import os\n",
        "import random\n",
        "import tensorflow as tf\n",
        "from keras import backend as K\n",
        "\n",
        "# Keras\n",
        "import keras\n",
        "from keras import models\n",
        "from keras import layers\n",
        "from keras import metrics\n",
        "\n",
        "# Additionl packages for keras model\n",
        "from tensorflow.keras.models import Sequential\n",
        "from tensorflow.keras.layers import Dense, Dropout, Activation, BatchNormalization\n",
        "from tensorflow.keras.optimizers import SGD\n",
        "from tensorflow.keras.callbacks import EarlyStopping\n",
        "from tensorflow import random \n",
        "from keras.wrappers.scikit_learn import KerasClassifier\n",
        "from sklearn.model_selection import RepeatedStratifiedKFold\n",
        "from sklearn.metrics import accuracy_score\n",
        "\n",
        "# Compute statistics, keras model\n",
        "from scipy import stats\n",
        "\n",
        "\n",
        "from sklearn.naive_bayes import GaussianNB\n",
        "from sklearn.preprocessing import MultiLabelBinarizer\n",
        "from sklearn.manifold import TSNE\n",
        "from sklearn import preprocessing\n",
        "from collections import Counter\n",
        "from skmultilearn.problem_transform import BinaryRelevance\n",
        "from sklearn.svm import SVC\n",
        "\n",
        "\n",
        "%matplotlib inline\n"
      ],
      "execution_count": 26,
      "outputs": []
    },
    {
      "cell_type": "code",
      "metadata": {
        "id": "WU-6Qgv42CQs"
      },
      "source": [
        "import warnings\n",
        "warnings.filterwarnings('ignore')\n",
        "tf.get_logger().setLevel('ERROR')"
      ],
      "execution_count": null,
      "outputs": []
    },
    {
      "cell_type": "markdown",
      "metadata": {
        "id": "nzLv7G7pXHH4"
      },
      "source": [
        "# Data correction"
      ]
    },
    {
      "cell_type": "code",
      "metadata": {
        "colab": {
          "base_uri": "https://localhost:8080/",
          "height": 206
        },
        "id": "A0y6qlKlMewl",
        "outputId": "63afd1c7-0dfc-4717-b6c1-f39d887d9747"
      },
      "source": [
        "df = pd.read_csv('genres.csv')\n",
        "df.head()"
      ],
      "execution_count": null,
      "outputs": [
        {
          "output_type": "execute_result",
          "data": {
            "text/html": [
              "<div>\n",
              "<style scoped>\n",
              "    .dataframe tbody tr th:only-of-type {\n",
              "        vertical-align: middle;\n",
              "    }\n",
              "\n",
              "    .dataframe tbody tr th {\n",
              "        vertical-align: top;\n",
              "    }\n",
              "\n",
              "    .dataframe thead th {\n",
              "        text-align: right;\n",
              "    }\n",
              "</style>\n",
              "<table border=\"1\" class=\"dataframe\">\n",
              "  <thead>\n",
              "    <tr style=\"text-align: right;\">\n",
              "      <th></th>\n",
              "      <th>student</th>\n",
              "      <th>song</th>\n",
              "      <th>coarse_genre</th>\n",
              "      <th>genre1</th>\n",
              "      <th>genre2</th>\n",
              "      <th>genre3</th>\n",
              "    </tr>\n",
              "  </thead>\n",
              "  <tbody>\n",
              "    <tr>\n",
              "      <th>0</th>\n",
              "      <td>Алексей Замалутдинов</td>\n",
              "      <td>Белый теплоход-Синяя_птица.mp3</td>\n",
              "      <td>Pop</td>\n",
              "      <td>Classic russian pop</td>\n",
              "      <td>Chanson</td>\n",
              "      <td>NaN</td>\n",
              "    </tr>\n",
              "    <tr>\n",
              "      <th>1</th>\n",
              "      <td>Алексей Замалутдинов</td>\n",
              "      <td>Дрозды-Геннадий_Белов.mp3</td>\n",
              "      <td>Pop</td>\n",
              "      <td>Classic russian pop</td>\n",
              "      <td>NaN</td>\n",
              "      <td>NaN</td>\n",
              "    </tr>\n",
              "    <tr>\n",
              "      <th>2</th>\n",
              "      <td>Алексей Замалутдинов</td>\n",
              "      <td>Птица_счастья_выбери_меня-Гнатюк.mp3</td>\n",
              "      <td>Pop</td>\n",
              "      <td>Classic russian pop</td>\n",
              "      <td>NaN</td>\n",
              "      <td>NaN</td>\n",
              "    </tr>\n",
              "    <tr>\n",
              "      <th>3</th>\n",
              "      <td>Алексей Замалутдинов</td>\n",
              "      <td>У_школьного_порога-Геннадий_Белов.mp3</td>\n",
              "      <td>Pop</td>\n",
              "      <td>Classic russian pop</td>\n",
              "      <td>NaN</td>\n",
              "      <td>NaN</td>\n",
              "    </tr>\n",
              "    <tr>\n",
              "      <th>4</th>\n",
              "      <td>Алексей Замалутдинов</td>\n",
              "      <td>Je_veux-Zaz.mp3</td>\n",
              "      <td>Jazz</td>\n",
              "      <td>french jazz</td>\n",
              "      <td>Chanson</td>\n",
              "      <td>NaN</td>\n",
              "    </tr>\n",
              "  </tbody>\n",
              "</table>\n",
              "</div>"
            ],
            "text/plain": [
              "                student                                   song  ...   genre2 genre3\n",
              "0  Алексей Замалутдинов         Белый теплоход-Синяя_птица.mp3  ...  Chanson    NaN\n",
              "1  Алексей Замалутдинов              Дрозды-Геннадий_Белов.mp3  ...      NaN    NaN\n",
              "2  Алексей Замалутдинов   Птица_счастья_выбери_меня-Гнатюк.mp3  ...      NaN    NaN\n",
              "3  Алексей Замалутдинов  У_школьного_порога-Геннадий_Белов.mp3  ...      NaN    NaN\n",
              "4  Алексей Замалутдинов                        Je_veux-Zaz.mp3  ...  Chanson    NaN\n",
              "\n",
              "[5 rows x 6 columns]"
            ]
          },
          "metadata": {
            "tags": []
          },
          "execution_count": 3
        }
      ]
    },
    {
      "cell_type": "markdown",
      "metadata": {
        "id": "YxoCt1XraUH1"
      },
      "source": [
        "We observed NaN values presence. So we checked whether our songs were balanced by the coarse_genre:"
      ]
    },
    {
      "cell_type": "code",
      "metadata": {
        "id": "SK9I_eNlZon7"
      },
      "source": [
        "df.coarse_genre.value_counts()"
      ],
      "execution_count": null,
      "outputs": []
    },
    {
      "cell_type": "markdown",
      "metadata": {
        "id": "-nSencK1aaoX"
      },
      "source": [
        "Our songs were imbalanced. Also there were some mistakingly named genres and different recording format, so we decided to correct some mistakes using Levenshtein distances between strings."
      ]
    },
    {
      "cell_type": "code",
      "metadata": {
        "id": "Id4gF9abKtaV"
      },
      "source": [
        "# creation of the value matrix and changing values on the basis of the Levenshtein distances\n",
        "def collect_values(values_list):  # list of all genres, concatenated\n",
        "    values_matrix = np.array([[distance(i, j) for i in values_list ] for j in values_list])\n",
        "    values_count = dict(Counter(values_list))\n",
        "    for i in range(len(values_list)):\n",
        "        for j in range(len(values_list)):\n",
        "            if (values_matrix[i, j] <= 2) and (i != j):  # replacement by more frequent values\n",
        "                  if values_count[values_list[i]] >= values_count[values_list[j]]:\n",
        "                    values_list[j] = values_list[i]\n",
        "                  else:\n",
        "                    values_list[i] = values_list[j]\n",
        "    return values_list"
      ],
      "execution_count": null,
      "outputs": []
    },
    {
      "cell_type": "code",
      "metadata": {
        "id": "AX_2Do0VcG0R"
      },
      "source": [
        "# edition of the particular columns in data frame\n",
        "def edit_values(df, *args):  # in args must be pd.Series\n",
        "    list_of_values = []\n",
        "    for serie in args:\n",
        "        list_of_values += [item.lower() for item in list(serie.values)]\n",
        "    corrected_values = collect_values(list_of_values)\n",
        "    final_list = [corrected_values[i:i + df.shape[0]] for i in range(0, len(corrected_values), df.shape[0])]\n",
        "    for part in range(0, len(args)):\n",
        "        df = df.replace(list(args[part].values), final_list[part])\n",
        "    return df"
      ],
      "execution_count": null,
      "outputs": []
    },
    {
      "cell_type": "markdown",
      "metadata": {
        "id": "HbwURck6bqPL"
      },
      "source": [
        "Before the correction itself we replaced NaN values in genres by 'unknown' value in order to keep the list length unchanged."
      ]
    },
    {
      "cell_type": "code",
      "metadata": {
        "id": "L3HfZD0iKYQK"
      },
      "source": [
        "# replacement of the NaN values by 'unknown' and correction of genres\n",
        "df_without_na = df.fillna('unknown')\n",
        "df_edited = edit_values(df_without_na,\n",
        "                        df_without_na.coarse_genre,\n",
        "                        df_without_na.genre1,\n",
        "                        df_without_na.genre2,\n",
        "                        df_without_na.genre3)\n"
      ],
      "execution_count": null,
      "outputs": []
    },
    {
      "cell_type": "markdown",
      "metadata": {
        "id": "QU6bCAoxY795"
      },
      "source": [
        "Checked the balance again:"
      ]
    },
    {
      "cell_type": "code",
      "metadata": {
        "colab": {
          "base_uri": "https://localhost:8080/"
        },
        "id": "9jgzv3fpzNvH",
        "outputId": "b50e6c6a-79ea-4ff2-dca5-b69135668363"
      },
      "source": [
        "df_edited.coarse_genre.value_counts()"
      ],
      "execution_count": null,
      "outputs": [
        {
          "output_type": "execute_result",
          "data": {
            "text/plain": [
              "unknown             313\n",
              "gothic_metal         11\n",
              "djent                 3\n",
              "russian synthpop      3\n",
              "pop_rock              3\n",
              "pop                   2\n",
              "russian hip-hop       2\n",
              "jazz                  2\n",
              "alternative_rock      2\n",
              "russian indian        1\n",
              "experimental          1\n",
              "swing                 1\n",
              "emo                   1\n",
              "hardcore              1\n",
              "francoton             1\n",
              "stoner                1\n",
              "piano                 1\n",
              "remix                 1\n",
              "metal                 1\n",
              "techno                1\n",
              "Name: genre3, dtype: int64"
            ]
          },
          "metadata": {
            "tags": []
          },
          "execution_count": 10
        }
      ]
    },
    {
      "cell_type": "markdown",
      "metadata": {
        "id": "Si1V-Hj_dHpB"
      },
      "source": [
        "Our songs still were imbalanced. Therefore we chose 5 most represented coarse genres for almost all the rest manipulations. Also to improve clasterization and classification, we added extra songs from GTZAN Dataset (https://www.kaggle.com/andradaolteanu/gtzan-dataset-music-genre-classification)"
      ]
    },
    {
      "cell_type": "code",
      "metadata": {
        "id": "sqHaFsNd8eNS"
      },
      "source": [
        "# Correction of the song names for the nextstep - feature extraction\n",
        "df_edited['song'] = df_edited['song'].str.replace('.mp3', '')\n",
        "df_edited.to_csv('Edited.csv')"
      ],
      "execution_count": null,
      "outputs": []
    },
    {
      "cell_type": "markdown",
      "metadata": {
        "id": "6n8h5BPnZxdH"
      },
      "source": [
        "# Feature extraction"
      ]
    },
    {
      "cell_type": "code",
      "metadata": {
        "id": "i6-CpWyjZ1EJ"
      },
      "source": [
        "def create_file_with_header(file):\n",
        "    header = 'filename chroma_stft rms spectral_centroid spectral_bandwidth rolloff zero_crossing_rate'\n",
        "    for i in range(1, 21):\n",
        "        header += f' mfcc{i}'\n",
        "    header = header.split()\n",
        "    file = open(file, 'w', newline='')\n",
        "    with file:\n",
        "        writer = csv.writer(file)\n",
        "        writer.writerow(header)"
      ],
      "execution_count": null,
      "outputs": []
    },
    {
      "cell_type": "code",
      "metadata": {
        "id": "xboWgUqqe3Y8"
      },
      "source": [
        "def extract_features(path_to_audios, output_file):\n",
        "    for filename in os.listdir(path_to_audios):\n",
        "        print(filename)\n",
        "        songname = f'{path_to_audios}{filename}'\n",
        "        print(songname)\n",
        "        y, sr = librosa.load(songname, mono=True, duration=30)\n",
        "        chroma_stft = librosa.feature.chroma_stft(y=y, sr=sr)\n",
        "        rmse = librosa.feature.rms(y=y)\n",
        "        spec_cent = librosa.feature.spectral_centroid(y=y, sr=sr)\n",
        "        spec_bw = librosa.feature.spectral_bandwidth(y=y, sr=sr)\n",
        "        rolloff = librosa.feature.spectral_rolloff(y=y, sr=sr)\n",
        "        zcr = librosa.feature.zero_crossing_rate(y)\n",
        "        mfcc = librosa.feature.mfcc(y=y, sr=sr)\n",
        "        to_append = f'{filename} {np.mean(chroma_stft)} {np.mean(rmse)} {np.mean(spec_cent)} {np.mean(spec_bw)} {np.mean(rolloff)} {np.mean(zcr)}'    \n",
        "        for e in mfcc:\n",
        "            to_append += f' {np.mean(e)}'\n",
        "        file = open(output_file, 'a', newline='')\n",
        "        with file:\n",
        "            writer = csv.writer(file)\n",
        "            writer.writerow(to_append.split())"
      ],
      "execution_count": null,
      "outputs": []
    },
    {
      "cell_type": "code",
      "metadata": {
        "id": "rEnieJF8e57D"
      },
      "source": [
        "# Example pathways\n",
        "path_to_df = \"/media/daria/DaryaNika/IB_fall2020/ML/music/tmp.csv\"\n",
        "path_to_music = \"/media/daria/DaryaNika/IB_fall2020/ML/music/\""
      ],
      "execution_count": null,
      "outputs": []
    },
    {
      "cell_type": "code",
      "metadata": {
        "id": "LW1ucgItfHvd"
      },
      "source": [
        "create_file_with_header(path)"
      ],
      "execution_count": null,
      "outputs": []
    },
    {
      "cell_type": "code",
      "metadata": {
        "id": "ZRXtoa_xfN5-"
      },
      "source": [
        "extract_features(path_to_music, path_to_df)"
      ],
      "execution_count": null,
      "outputs": []
    },
    {
      "cell_type": "markdown",
      "metadata": {
        "id": "ntRMerGshyw1"
      },
      "source": [
        "After the feature extraction, addition of the extra songs and final correction of the song names we save two data frames: with 26 and 55 features. Obtained datasets are available for uploading and further analysis!"
      ]
    },
    {
      "cell_type": "code",
      "metadata": {
        "id": "U3ts10uBimJg"
      },
      "source": [
        "data_less = pd.read_csv('music_data.csv')\n",
        "data_more = pd.read_csv('music_data_new_features.csv')"
      ],
      "execution_count": null,
      "outputs": []
    },
    {
      "cell_type": "markdown",
      "metadata": {
        "id": "oaaTMQEWaUj3"
      },
      "source": [
        "# K-means clusterization"
      ]
    },
    {
      "cell_type": "markdown",
      "metadata": {
        "id": "Uyc0YphBCD0L"
      },
      "source": [
        "## Clusterization by the 5 most represented genres"
      ]
    },
    {
      "cell_type": "markdown",
      "metadata": {
        "id": "scFbcIqRhUTs"
      },
      "source": [
        "The code of this part was executed on two datasets: with 26 and 55 features."
      ]
    },
    {
      "cell_type": "code",
      "metadata": {
        "id": "kCKJY8v8E9TB"
      },
      "source": [
        "tracks = data_less  # change on 'data_more'\n",
        "tracks.drop(['label'], axis=1, inplace=True)  # required only for data_less dataset\n",
        "coarse_genres = tracks.coarse_genre.value_counts()\n",
        "genres_5 = list(coarse_genres[coarse_genres > 70].index)\n",
        "tracks = tracks.loc[tracks.coarse_genre.isin(genres_5)]\n",
        "major_genre = tracks.coarse_genre.value_counts().index\n",
        "X_hist = tracks.drop(['song', 'coarse_genre', 'genre1', 'genre2', 'genre3'], axis=1)\n",
        "tracks.coarse_genre.value_counts()"
      ],
      "execution_count": null,
      "outputs": []
    },
    {
      "cell_type": "code",
      "metadata": {
        "id": "fg1JYcZonvl-"
      },
      "source": [
        "X_hist.hist(figsize=(20,20))"
      ],
      "execution_count": null,
      "outputs": []
    },
    {
      "cell_type": "markdown",
      "metadata": {
        "id": "XG3_5aHKn-I4"
      },
      "source": [
        "The features appeared to be in a different order of values. To reduce effects of different scaling we normalized the data."
      ]
    },
    {
      "cell_type": "code",
      "metadata": {
        "id": "fMGdHG7pE9V5"
      },
      "source": [
        "audio_cols = X_hist.columns.to_list()\n",
        "norm = Normalizer()\n",
        "tracks[audio_cols] = norm.fit_transform(tracks[audio_cols])\n",
        "genre_groupby = tracks.groupby('coarse_genre').agg('mean')\n",
        "clusters = genre_groupby.reset_index().rename({'coarse_genre':'cluster'}, axis=1)\n",
        "clusters['method'] = 'Mean'"
      ],
      "execution_count": null,
      "outputs": []
    },
    {
      "cell_type": "code",
      "metadata": {
        "id": "SXHcy1tJE9Y9"
      },
      "source": [
        "# compute number of clusters\n",
        "plt.rcParams['axes.facecolor'] = 'w'\n",
        "X = tracks[audio_cols]\n",
        "distortions = []\n",
        "for i in range(1, 11):\n",
        "    km = KMeans(\n",
        "        n_clusters=i, init='random',\n",
        "        n_init=10, max_iter=300,\n",
        "        tol=1e-04, random_state=0)\n",
        "    km.fit(X)\n",
        "    distortions.append(np.sqrt(km.inertia_))\n",
        "\n",
        "# plot\n",
        "plt.rcParams['axes.facecolor'] = 'w'\n",
        "plt.plot(range(1, 11), distortions, marker='o')\n",
        "plt.xlabel('$k$')\n",
        "plt.ylabel('$J(C_k)$')\n",
        "plt.savefig('Clusters_number.png')\n",
        "plt.show()"
      ],
      "execution_count": null,
      "outputs": []
    },
    {
      "cell_type": "code",
      "metadata": {
        "id": "rSgzCsw9E9a2"
      },
      "source": [
        "# K-means\n",
        "km = KMeans(n_clusters=len(major_genre), n_init=10, random_state=1986)\n",
        "km.fit(X)\n",
        "labels = km.labels_\n",
        "cluster_centers = km.cluster_centers_\n",
        "labels_unique = np.unique(labels)\n",
        "n_clusters_ = len(labels_unique)\n",
        "km_clusters = pd.DataFrame(cluster_centers, columns=audio_cols)\n",
        "km_clusters['cluster'] = ['KM{}'.format(l) for l in labels_unique]\n",
        "km_clusters['method'] = 'KMeans'\n",
        "clusters = pd.concat([clusters, km_clusters])\n",
        "cols = ['cluster'] + audio_cols + ['method']\n",
        "clusters = clusters[cols]\n",
        "descriptive_labels = list(km_clusters.cluster.values)\n",
        "unique_labels = np.unique(labels)\n",
        "translated_labels = dict(zip(unique_labels, descriptive_labels))\n",
        "tracks['KMeansLabel'] = list(map(lambda x:translated_labels[x], labels))"
      ],
      "execution_count": null,
      "outputs": []
    },
    {
      "cell_type": "code",
      "metadata": {
        "id": "lQi9gomXE9dp"
      },
      "source": [
        "# Metrics\n",
        "y_true = tracks['coarse_genre']\n",
        "y_pred = tracks['KMeansLabel']\n",
        "metrics = {'adjusted_rand_score':adjusted_rand_score, \n",
        "           'adjusted_mutual_info_score':adjusted_mutual_info_score, \n",
        "           'v_measure_score':v_measure_score\n",
        "          }\n",
        "scores = dict(zip(metrics.keys(), [metrics[m](y_true, y_pred) for m in metrics.keys()]))\n",
        "scores['silhouette_score'] = silhouette_score(X,y_pred)\n",
        "for k,v in scores.items():\n",
        "    print(\"Metric: {} Score: {}\".format(k, v))"
      ],
      "execution_count": null,
      "outputs": []
    },
    {
      "cell_type": "code",
      "metadata": {
        "id": "V20276dqGL51"
      },
      "source": [
        "# PCA for dimension reduction\n",
        "pca = PCA(n_components=2)\n",
        "X_new = pca.fit_transform(X)\n",
        "x,y = zip(*X_new)\n",
        "tracks['x'] = x\n",
        "tracks['y'] = y\n",
        "explained_variance_ratio = pca.explained_variance_ratio_\n",
        "explained_variance_ratio"
      ],
      "execution_count": null,
      "outputs": []
    },
    {
      "cell_type": "code",
      "metadata": {
        "id": "BIqfEZjXGL-f"
      },
      "source": [
        "# Clusters by genres\n",
        "sns.set(font_scale=1.5)\n",
        "sns.set_style('white')\n",
        "sns.lmplot(data=tracks, x='x', y='y', hue='coarse_genre', fit_reg=False, legend=True, size=8, palette='Set1',\n",
        "           scatter_kws={'alpha':0.35, 's':25})\n",
        "plt.title(\"Clustering by Genre, Reduced Dimension\", size=15)\n",
        "plt.grid()\n",
        "plt.savefig('pca_scatter_genres.png')"
      ],
      "execution_count": null,
      "outputs": []
    },
    {
      "cell_type": "code",
      "metadata": {
        "id": "47x5BX8ZGMAl"
      },
      "source": [
        "# Clusters by Kmeans\n",
        "sns.set(font_scale=1.5)\n",
        "sns.set_style('white')\n",
        "sns.lmplot(data=tracks, x='x', y='y', hue='KMeansLabel', fit_reg=False, legend=True, size=8, palette='Set1',\n",
        "           scatter_kws={'alpha':0.35, 's':25})\n",
        "plt.title(\"Clustering by KMeans Label, Reduced Dimension\")\n",
        "plt.grid()\n",
        "plt.savefig('pca_scatter_KM.png')"
      ],
      "execution_count": null,
      "outputs": []
    },
    {
      "cell_type": "markdown",
      "metadata": {
        "id": "AAnGvPvwBWN9"
      },
      "source": [
        "We obtained illegible clusters with bad metrics. Addition of the features made the situation even slightly worse. According to the computation of clusters number we had about 1-2 clusters for 5 genres. As an option, further we watched how all the genres can be combined in 5 major genres and how this approach affect the results of clusterization."
      ]
    },
    {
      "cell_type": "markdown",
      "metadata": {
        "id": "rxm7VKNaFngc"
      },
      "source": [
        "## Clusterization by the 5 synthetic genres"
      ]
    },
    {
      "cell_type": "markdown",
      "metadata": {
        "id": "ThtuTJZ4rGAr"
      },
      "source": [
        "The code of this part was executed on two datasets: with 26 and 55 features. This code has similarities with previous part in order to be fully independent."
      ]
    },
    {
      "cell_type": "markdown",
      "metadata": {
        "id": "If7LtNnyGm6b"
      },
      "source": [
        "All genres in the coarse_genre variable were united in 5 synthetic genres on the basis of the distances between them, calculated by the corresponding feature values. Initial code was taken from here https://github.com/victoreram/Springboard-Data-Science/blob/master/GenreClustering/GenreClustering.ipynb"
      ]
    },
    {
      "cell_type": "code",
      "metadata": {
        "id": "qPh73sAwsZVa"
      },
      "source": [
        "tracks = data_less  # change on 'data_more'\n",
        "n_features = tracks.shape[1] - 5\n",
        "tracks.drop(['label'], axis=1, inplace=True)  # required only for data_less dataset\n",
        "genre_count = tracks.groupby('coarse_genre').agg({'coarse_genre':'count'})['coarse_genre']\n",
        "major_genres = genre_count[genre_count > 70].index.values  \n",
        "minor_genres = genre_count[genre_count <= 70].index.values\n",
        "print(\"Major genres: {} \\nMinor Genres: {}\".format(major_genres, minor_genres))"
      ],
      "execution_count": null,
      "outputs": []
    },
    {
      "cell_type": "code",
      "metadata": {
        "id": "w3B6YOCsGhdG"
      },
      "source": [
        "X_hist = tracks.drop(['song', 'coarse_genre', 'genre1', 'genre2', 'genre3'], axis=1)\n",
        "audio_cols = X_hist.columns.to_list()\n",
        "norm = Normalizer()\n",
        "tracks[audio_cols] = norm.fit_transform(tracks[audio_cols])\n",
        "genre_groupby = tracks.groupby('coarse_genre').agg('mean')\n",
        "clusters = genre_groupby.reset_index().rename({'coarse_genre':'cluster'}, axis=1)\n",
        "minor_clusters = clusters.loc[clusters.cluster.isin(minor_genres)]\n",
        "major_clusters =  clusters.loc[clusters.cluster.isin(major_genres)]\n",
        "new_genres = dict(zip(major_genres,major_genres))"
      ],
      "execution_count": null,
      "outputs": []
    },
    {
      "cell_type": "code",
      "metadata": {
        "id": "106L3sH1Ghfy"
      },
      "source": [
        "# synthesis in 5 genres\n",
        "for i, r in minor_clusters.iterrows():\n",
        "    genre = r[0]\n",
        "    genre_coordinates = r[1:n_features + 1].values\n",
        "    genre_coordinates_other = major_clusters[audio_cols].values\n",
        "    # calculate distances between each genre; choose closest genre as the one with minimum distance\n",
        "    distances = [abs(np.linalg.norm(genre_coordinates-c)) for c in genre_coordinates_other]\n",
        "    min_distance = min(distances)\n",
        "    closest_genre = major_genres[distances.index(min_distance)]\n",
        "    print(\"minor genre: {}, closest major genre: {}\".format(genre, closest_genre))\n",
        "    # reassign genre values for largely minority genres\n",
        "    tracks['coarse_genre'].loc[tracks['coarse_genre']==genre] = closest_genre\n",
        "    new_genres[closest_genre] = new_genres[closest_genre] + \"/\" + genre\n",
        "tracks = tracks.replace(new_genres)\n",
        "print(tracks.groupby('coarse_genre').agg({'coarse_genre':'count'})['coarse_genre'])"
      ],
      "execution_count": null,
      "outputs": []
    },
    {
      "cell_type": "code",
      "metadata": {
        "id": "sRHwbYIIGhi1"
      },
      "source": [
        "genre_groupby = tracks.groupby('coarse_genre').agg('mean')\n",
        "clusters = genre_groupby.reset_index().rename({'coarse_genre':'cluster'}, axis=1)\n",
        "clusters['method'] = 'Mean'"
      ],
      "execution_count": null,
      "outputs": []
    },
    {
      "cell_type": "code",
      "metadata": {
        "id": "yBQ0qTDBGhmE"
      },
      "source": [
        "# compute number of clusters\n",
        "plt.rcParams['axes.facecolor'] = 'w'\n",
        "X = tracks[audio_cols]\n",
        "distortions = []\n",
        "for i in range(1, 11):\n",
        "    km = KMeans(\n",
        "        n_clusters=i, init='random',\n",
        "        n_init=10, max_iter=300,\n",
        "        tol=1e-04, random_state=0)\n",
        "    km.fit(X)\n",
        "    distortions.append(np.sqrt(km.inertia_))\n",
        "\n",
        "# plot\n",
        "plt.plot(range(1, 11), distortions, marker='o')\n",
        "plt.xlabel('$k$')\n",
        "plt.ylabel('$J(C_k)$')\n",
        "plt.savefig('Clusters_number.png')\n",
        "plt.show()"
      ],
      "execution_count": null,
      "outputs": []
    },
    {
      "cell_type": "code",
      "metadata": {
        "id": "ROeSYqvMGhoz"
      },
      "source": [
        "# K-means\n",
        "km = KMeans(n_clusters=len(major_genres), n_init=10, random_state=1986)\n",
        "km.fit(X)\n",
        "labels = km.labels_\n",
        "cluster_centers = km.cluster_centers_\n",
        "labels_unique = np.unique(labels)\n",
        "n_clusters_ = len(labels_unique)\n",
        "km_clusters = pd.DataFrame(cluster_centers, columns=audio_cols)\n",
        "km_clusters['cluster'] = ['KM{}'.format(l) for l in labels_unique]\n",
        "km_clusters['method'] = 'KMeans'\n",
        "clusters = pd.concat([clusters, km_clusters])\n",
        "cols = ['cluster'] + audio_cols + ['method']\n",
        "clusters = clusters[cols]"
      ],
      "execution_count": null,
      "outputs": []
    },
    {
      "cell_type": "code",
      "metadata": {
        "id": "h15al3-3D-12"
      },
      "source": [
        "# heatmap - displays contribution of each feature in each Kmeans cluster\n",
        "plt.figure(figsize=(20,20))\n",
        "sns.set(font_scale=1.5)\n",
        "sns.heatmap(\n",
        "    data=clusters.loc[clusters.method=='KMeans', audio_cols],\n",
        "    cmap='Purples',\n",
        "    annot=False\n",
        ")\n",
        "plt.ylabel(\"KMeansLabel\")\n",
        "plt.savefig('heatmap_all.png')"
      ],
      "execution_count": null,
      "outputs": []
    },
    {
      "cell_type": "code",
      "metadata": {
        "id": "_HQtZsZIIlRs"
      },
      "source": [
        "# description of the clusters\n",
        "descriptive_labels = list(km_clusters.cluster.values)\n",
        "unique_labels = np.unique(labels)\n",
        "translated_labels = dict(zip(unique_labels, descriptive_labels))\n",
        "tracks['KMeansLabel'] = list(map(lambda x:translated_labels[x], labels))\n",
        "\n",
        "genre_count = tracks.groupby('coarse_genre').agg({'coarse_genre':'count'})['coarse_genre']\n",
        "\n",
        "# How many instances of each k-means cluster are there?\n",
        "print(\"### Instances of KMeans Cluster ###\")\n",
        "print(tracks[['coarse_genre', 'KMeansLabel']].groupby('KMeansLabel').agg('count'))\n",
        "\n",
        "# Which cluster corresponds to the most instances per genre?\n",
        "print(\"### Which cluster corresponds to the most instances per genre? ###\")\n",
        "print(tracks[['coarse_genre', 'KMeansLabel']].groupby('coarse_genre').agg(lambda x:x.value_counts().index[0]))\n",
        "\n",
        "# Which genre corresponds to the most instances per cluster?\n",
        "print(\"### Which genre corresponds to the most instances per cluster? ###\")\n",
        "print(tracks[['coarse_genre', 'KMeansLabel']].groupby('KMeansLabel').agg(lambda x:x.value_counts().index[0]))"
      ],
      "execution_count": null,
      "outputs": []
    },
    {
      "cell_type": "code",
      "metadata": {
        "id": "w7Vlb3JfIlUT"
      },
      "source": [
        "# Metrics\n",
        "y_true = tracks['coarse_genre']\n",
        "y_pred = tracks['KMeansLabel']\n",
        "metrics = {'adjusted_rand_score':adjusted_rand_score, \n",
        "           'adjusted_mutual_info_score':adjusted_mutual_info_score, \n",
        "           'v_measure_score':v_measure_score\n",
        "          }\n",
        "scores = dict(zip(metrics.keys(), [metrics[m](y_true, y_pred) for m in metrics.keys()]))\n",
        "scores['silhouette_score'] = silhouette_score(X,y_pred)\n",
        "for k,v in scores.items():\n",
        "    print(\"Metric: {} Score: {}\".format(k, v))"
      ],
      "execution_count": null,
      "outputs": []
    },
    {
      "cell_type": "code",
      "metadata": {
        "id": "g3OH293xIlW-"
      },
      "source": [
        "# PCA for dimension reduction\n",
        "pca = PCA(n_components=2)\n",
        "X_new = pca.fit_transform(X)\n",
        "x,y = zip(*X_new)\n",
        "tracks['x'] = x\n",
        "tracks['y'] = y\n",
        "components = pca.components_\n",
        "explained_variance = pca.explained_variance_\n",
        "explained_variance_ratio = pca.explained_variance_ratio_\n",
        "singular_values = pca.singular_values_\n",
        "audio_components = dict(list(zip(audio_cols, zip(*np.round(components,2)))))"
      ],
      "execution_count": null,
      "outputs": []
    },
    {
      "cell_type": "code",
      "metadata": {
        "id": "ho9vRhPUIlZv"
      },
      "source": [
        "# Clusters by genres\n",
        "sns.set(font_scale=1.5)\n",
        "sns.set_style('white')\n",
        "sns.lmplot(data=tracks, x='x', y='y', hue='coarse_genre', fit_reg=False, legend=True, size=8, palette='Set1',\n",
        "           scatter_kws={'alpha':0.35, 's':25})\n",
        "plt.title(\"Clustering by Genre, Reduced Dimension\", size=15)\n",
        "plt.grid()\n",
        "plt.savefig('pca_scatter_genres.png')\n"
      ],
      "execution_count": null,
      "outputs": []
    },
    {
      "cell_type": "code",
      "metadata": {
        "id": "evLoRXKbM49F"
      },
      "source": [
        "# Clusters by Kmeans\n",
        "sns.set(font_scale=1.5)\n",
        "sns.set_style('white')\n",
        "sns.lmplot(data=tracks, x='x', y='y', hue='KMeansLabel', fit_reg=False, legend=True, size=8, palette='Set1',\n",
        "           scatter_kws={'alpha':0.35, 's':25})\n",
        "plt.title(\"Clustering by KMeans Label, Reduced Dimension\")\n",
        "plt.grid()\n",
        "plt.savefig('pca_scatter_KM.png')"
      ],
      "execution_count": null,
      "outputs": []
    },
    {
      "cell_type": "markdown",
      "metadata": {
        "id": "z9sHXKR_Dozk"
      },
      "source": [
        "The results of the clusterization by 5 synthetic genres was quite similar with clusterization by 5 initial genres (likely because those songs are prevalied) and the metrics were almost the same. \n",
        "K-means clusterization is hardly applicable for music, possible reasons are: inappropriate features, small size of the datatset, highly specific songs, which don't represent the corresponding genre clearly. So in the next steps we applied another approaches."
      ]
    },
    {
      "cell_type": "markdown",
      "metadata": {
        "id": "FDO9QL22OEgj"
      },
      "source": [
        "# K-nearest neighbours (KNN) classification\n",
        "\n",
        "\n"
      ]
    },
    {
      "cell_type": "markdown",
      "metadata": {
        "id": "kGeXwtLvJxCg"
      },
      "source": [
        "Now we would work with data updated with GTZAN subset and possessing more features than initial raw dataset (namely, 55 features). To classify 5 top most represented genres: pop, jazz, metal, hip-hop, and rock, we will apply k-nearest neighbours (KNN) method. To diminish influence of noise from less relevant features if any, we will also perform KNN with prior PCA dimensionality reduction.  Several parameters for KNN would be selected using GridSearchCV (cv=5)."
      ]
    },
    {
      "cell_type": "code",
      "metadata": {
        "id": "1MTcK6JAOkNZ"
      },
      "source": [
        "def reduce_dim_with_pca(X_train,X_test):\n",
        "    \"\"\"\n",
        "    Scale data and perform PCA to reduce number of features.\n",
        "    Returns a tuple: \n",
        "    <X_train_reduced>, <X_test_reduced>, <pca.n_components_>\n",
        "    \"\"\"\n",
        "    \n",
        "    # Standardize features\n",
        "    scaler = StandardScaler()\n",
        "\n",
        "    # Fit on training set only\n",
        "    scaler.fit(X_train)\n",
        "\n",
        "    # Apply transform to both the training set and the test set.\n",
        "    X_train_scaled = scaler.transform(X_train)\n",
        "    X_test_scaled = scaler.transform(X_test)\n",
        "\n",
        "    # Keep principle components that explain at least 95% of variance\n",
        "    pca = PCA(n_components = 0.95, whiten = True)\n",
        "    pca.fit(X_train_scaled)\n",
        "\n",
        "    # Reduce dimension of train and test data\n",
        "    X_train_reduced = pca.transform(X_train_scaled) \n",
        "    X_test_reduced = pca.transform(X_test_scaled)\n",
        "    \n",
        "    return X_train_reduced, X_test_reduced, pca.n_components_"
      ],
      "execution_count": null,
      "outputs": []
    },
    {
      "cell_type": "code",
      "metadata": {
        "id": "OSYEOWBtOrod"
      },
      "source": [
        "def best_knn_grid(X_train, y_train,cv_=5,\n",
        "                  knn__n_neighbors_=range(1, 10),\n",
        "                  knn__weights_=['uniform', 'distance'],\n",
        "                  knn__algorithm_=['auto', 'ball_tree', 'kd_tree', 'brute']):\n",
        "    \n",
        "    \"\"\"\n",
        "    Find best parameters for KNN classifier using GridSearchCV \n",
        "    on k-fold cross-validation.\n",
        "    Returns best_estimator_ found by GridSearchCV.\n",
        "    \"\"\"\n",
        "    knn_pipe = Pipeline([('scaler', StandardScaler()), \n",
        "                     ('knn', KNeighborsClassifier(n_jobs=-1))])\n",
        "\n",
        "    # Specify parameters to check in GridSearch\n",
        "    knn_params = {'knn__n_neighbors': range(1, 10),\n",
        "                 'knn__weights':['uniform', 'distance'],\n",
        "                 'knn__algorithm':['auto', 'ball_tree', 'kd_tree', 'brute']}\n",
        "\n",
        "    # Create GridSearchCV object; default 5-fold cross validation\n",
        "    knn_grid = GridSearchCV(knn_pipe, knn_params, \n",
        "                            cv=cv_, n_jobs=-1, verbose=True)\n",
        "\n",
        "    # Fitting\n",
        "    knn_grid.fit(X_train, y_train)\n",
        "\n",
        "    return knn_grid.best_estimator_"
      ],
      "execution_count": null,
      "outputs": []
    },
    {
      "cell_type": "code",
      "metadata": {
        "colab": {
          "base_uri": "https://localhost:8080/",
          "height": 313
        },
        "id": "sFCKqPGKO3YG",
        "outputId": "278bbbea-5979-4655-e6c9-f6a0cb49fd49"
      },
      "source": [
        "data_more.head()"
      ],
      "execution_count": null,
      "outputs": [
        {
          "output_type": "execute_result",
          "data": {
            "text/html": [
              "<div>\n",
              "<style scoped>\n",
              "    .dataframe tbody tr th:only-of-type {\n",
              "        vertical-align: middle;\n",
              "    }\n",
              "\n",
              "    .dataframe tbody tr th {\n",
              "        vertical-align: top;\n",
              "    }\n",
              "\n",
              "    .dataframe thead th {\n",
              "        text-align: right;\n",
              "    }\n",
              "</style>\n",
              "<table border=\"1\" class=\"dataframe\">\n",
              "  <thead>\n",
              "    <tr style=\"text-align: right;\">\n",
              "      <th></th>\n",
              "      <th>song</th>\n",
              "      <th>coarse_genre</th>\n",
              "      <th>genre1</th>\n",
              "      <th>genre2</th>\n",
              "      <th>genre3</th>\n",
              "      <th>tempo</th>\n",
              "      <th>harmony_mean</th>\n",
              "      <th>harmony_var</th>\n",
              "      <th>chroma_stft_mean</th>\n",
              "      <th>chroma_stft_var</th>\n",
              "      <th>rms_mean</th>\n",
              "      <th>rms_var</th>\n",
              "      <th>spectral_centroid_mean</th>\n",
              "      <th>spectral_centroid_var</th>\n",
              "      <th>spectral_bandwidth_mean</th>\n",
              "      <th>spectral_bandwidth_var</th>\n",
              "      <th>rolloff_mean</th>\n",
              "      <th>rollof_var</th>\n",
              "      <th>zero_crossing_rate_mean</th>\n",
              "      <th>zero_crossing_rate_var</th>\n",
              "      <th>mfcc_mean1</th>\n",
              "      <th>mfcc_var1</th>\n",
              "      <th>mfcc_mean2</th>\n",
              "      <th>mfcc_var2</th>\n",
              "      <th>mfcc_mean3</th>\n",
              "      <th>mfcc_var3</th>\n",
              "      <th>mfcc_mean4</th>\n",
              "      <th>mfcc_var4</th>\n",
              "      <th>mfcc_mean5</th>\n",
              "      <th>mfcc_var5</th>\n",
              "      <th>mfcc_mean6</th>\n",
              "      <th>mfcc_var6</th>\n",
              "      <th>mfcc_mean7</th>\n",
              "      <th>mfcc_var7</th>\n",
              "      <th>mfcc_mean8</th>\n",
              "      <th>mfcc_var8</th>\n",
              "      <th>mfcc_mean9</th>\n",
              "      <th>mfcc_var9</th>\n",
              "      <th>mfcc_mean10</th>\n",
              "      <th>mfcc_var10</th>\n",
              "      <th>mfcc_mean11</th>\n",
              "      <th>mfcc_var11</th>\n",
              "      <th>mfcc_mean12</th>\n",
              "      <th>mfcc_var12</th>\n",
              "      <th>mfcc_mean13</th>\n",
              "      <th>mfcc_var13</th>\n",
              "      <th>mfcc_mean14</th>\n",
              "      <th>mfcc_var14</th>\n",
              "      <th>mfcc_mean15</th>\n",
              "      <th>mfcc_var15</th>\n",
              "      <th>mfcc_mean16</th>\n",
              "      <th>mfcc_var16</th>\n",
              "      <th>mfcc_mean17</th>\n",
              "      <th>mfcc_var17</th>\n",
              "      <th>mfcc_mean18</th>\n",
              "      <th>mfcc_var18</th>\n",
              "      <th>mfcc_mean19</th>\n",
              "      <th>mfcc_var19</th>\n",
              "      <th>mfcc_mean20</th>\n",
              "      <th>mfcc_var20</th>\n",
              "    </tr>\n",
              "  </thead>\n",
              "  <tbody>\n",
              "    <tr>\n",
              "      <th>0</th>\n",
              "      <td>7Horse_-_Answer_the_Bell.mp3</td>\n",
              "      <td>rock</td>\n",
              "      <td>blues rock</td>\n",
              "      <td>unknown</td>\n",
              "      <td>unknown</td>\n",
              "      <td>99.384014</td>\n",
              "      <td>0.182474</td>\n",
              "      <td>0.045250</td>\n",
              "      <td>0.471305</td>\n",
              "      <td>0.084595</td>\n",
              "      <td>0.319938</td>\n",
              "      <td>0.003853</td>\n",
              "      <td>1860.309881</td>\n",
              "      <td>229067.298000</td>\n",
              "      <td>2254.449006</td>\n",
              "      <td>118695.483305</td>\n",
              "      <td>4242.016016</td>\n",
              "      <td>1.192917e+06</td>\n",
              "      <td>0.059129</td>\n",
              "      <td>0.000721</td>\n",
              "      <td>-23.744074</td>\n",
              "      <td>3003.048096</td>\n",
              "      <td>107.768021</td>\n",
              "      <td>559.066162</td>\n",
              "      <td>0.705893</td>\n",
              "      <td>150.900665</td>\n",
              "      <td>44.126892</td>\n",
              "      <td>154.674927</td>\n",
              "      <td>2.450167</td>\n",
              "      <td>92.502411</td>\n",
              "      <td>13.959824</td>\n",
              "      <td>55.763256</td>\n",
              "      <td>-2.741955</td>\n",
              "      <td>66.120018</td>\n",
              "      <td>13.074828</td>\n",
              "      <td>55.200405</td>\n",
              "      <td>-1.435308</td>\n",
              "      <td>34.894699</td>\n",
              "      <td>0.578150</td>\n",
              "      <td>36.934391</td>\n",
              "      <td>2.607480</td>\n",
              "      <td>43.556408</td>\n",
              "      <td>8.955308</td>\n",
              "      <td>35.205891</td>\n",
              "      <td>0.447658</td>\n",
              "      <td>27.292280</td>\n",
              "      <td>2.813950</td>\n",
              "      <td>33.450348</td>\n",
              "      <td>0.683013</td>\n",
              "      <td>23.670122</td>\n",
              "      <td>5.262069</td>\n",
              "      <td>20.629641</td>\n",
              "      <td>-4.268339</td>\n",
              "      <td>21.895504</td>\n",
              "      <td>5.835894</td>\n",
              "      <td>22.709789</td>\n",
              "      <td>-3.354534</td>\n",
              "      <td>24.800602</td>\n",
              "      <td>1.056222</td>\n",
              "      <td>25.469767</td>\n",
              "    </tr>\n",
              "    <tr>\n",
              "      <th>1</th>\n",
              "      <td>A_Simple_Life-Brian_Crain.mp3</td>\n",
              "      <td>classic</td>\n",
              "      <td>neo-classic</td>\n",
              "      <td>new age piano</td>\n",
              "      <td>unknown</td>\n",
              "      <td>89.102909</td>\n",
              "      <td>0.131602</td>\n",
              "      <td>0.024704</td>\n",
              "      <td>0.198131</td>\n",
              "      <td>0.085903</td>\n",
              "      <td>0.031942</td>\n",
              "      <td>0.000385</td>\n",
              "      <td>1120.163312</td>\n",
              "      <td>164087.581384</td>\n",
              "      <td>1258.178395</td>\n",
              "      <td>132845.736804</td>\n",
              "      <td>1766.280986</td>\n",
              "      <td>9.015249e+05</td>\n",
              "      <td>0.076997</td>\n",
              "      <td>0.001391</td>\n",
              "      <td>-378.191803</td>\n",
              "      <td>3241.575195</td>\n",
              "      <td>158.049606</td>\n",
              "      <td>641.831360</td>\n",
              "      <td>-12.159947</td>\n",
              "      <td>749.533936</td>\n",
              "      <td>-0.245925</td>\n",
              "      <td>160.298447</td>\n",
              "      <td>1.073428</td>\n",
              "      <td>88.852501</td>\n",
              "      <td>-3.667623</td>\n",
              "      <td>139.831650</td>\n",
              "      <td>-9.547797</td>\n",
              "      <td>136.572784</td>\n",
              "      <td>-15.990136</td>\n",
              "      <td>170.328751</td>\n",
              "      <td>-17.851130</td>\n",
              "      <td>139.462357</td>\n",
              "      <td>-5.642962</td>\n",
              "      <td>146.548508</td>\n",
              "      <td>-4.773774</td>\n",
              "      <td>167.764023</td>\n",
              "      <td>-10.394959</td>\n",
              "      <td>164.991043</td>\n",
              "      <td>-8.264109</td>\n",
              "      <td>114.193802</td>\n",
              "      <td>3.224174</td>\n",
              "      <td>64.705299</td>\n",
              "      <td>6.191852</td>\n",
              "      <td>94.966789</td>\n",
              "      <td>0.026725</td>\n",
              "      <td>87.127922</td>\n",
              "      <td>-8.696564</td>\n",
              "      <td>48.780285</td>\n",
              "      <td>-7.645648</td>\n",
              "      <td>74.532341</td>\n",
              "      <td>-0.248223</td>\n",
              "      <td>159.085770</td>\n",
              "      <td>-4.363388</td>\n",
              "      <td>116.179855</td>\n",
              "    </tr>\n",
              "    <tr>\n",
              "      <th>2</th>\n",
              "      <td>Adagio_in_G_Minor-Albinoni.mp3</td>\n",
              "      <td>classic</td>\n",
              "      <td>instrumental</td>\n",
              "      <td>unknown</td>\n",
              "      <td>unknown</td>\n",
              "      <td>123.046875</td>\n",
              "      <td>0.249215</td>\n",
              "      <td>0.079184</td>\n",
              "      <td>0.296817</td>\n",
              "      <td>0.088441</td>\n",
              "      <td>0.023875</td>\n",
              "      <td>0.000168</td>\n",
              "      <td>778.658869</td>\n",
              "      <td>98053.679151</td>\n",
              "      <td>1176.596670</td>\n",
              "      <td>55144.057387</td>\n",
              "      <td>1249.834109</td>\n",
              "      <td>5.294999e+05</td>\n",
              "      <td>0.043065</td>\n",
              "      <td>0.000317</td>\n",
              "      <td>-406.446533</td>\n",
              "      <td>4562.211914</td>\n",
              "      <td>163.899689</td>\n",
              "      <td>373.379059</td>\n",
              "      <td>31.604647</td>\n",
              "      <td>951.605835</td>\n",
              "      <td>24.882523</td>\n",
              "      <td>156.843384</td>\n",
              "      <td>15.976170</td>\n",
              "      <td>85.246109</td>\n",
              "      <td>5.303088</td>\n",
              "      <td>53.127872</td>\n",
              "      <td>-14.669940</td>\n",
              "      <td>51.631145</td>\n",
              "      <td>-11.307670</td>\n",
              "      <td>129.129868</td>\n",
              "      <td>4.560072</td>\n",
              "      <td>86.743256</td>\n",
              "      <td>8.207348</td>\n",
              "      <td>112.059814</td>\n",
              "      <td>-3.151361</td>\n",
              "      <td>105.716599</td>\n",
              "      <td>-10.424700</td>\n",
              "      <td>84.137878</td>\n",
              "      <td>-13.281364</td>\n",
              "      <td>113.291649</td>\n",
              "      <td>-3.239272</td>\n",
              "      <td>55.665222</td>\n",
              "      <td>0.330685</td>\n",
              "      <td>52.385036</td>\n",
              "      <td>2.051858</td>\n",
              "      <td>57.367706</td>\n",
              "      <td>2.346986</td>\n",
              "      <td>51.590630</td>\n",
              "      <td>3.684479</td>\n",
              "      <td>65.330132</td>\n",
              "      <td>6.620385</td>\n",
              "      <td>133.876312</td>\n",
              "      <td>1.746256</td>\n",
              "      <td>84.669807</td>\n",
              "    </tr>\n",
              "    <tr>\n",
              "      <th>3</th>\n",
              "      <td>Age_Atomic-Solar_Bears.mp3</td>\n",
              "      <td>electronica</td>\n",
              "      <td>synthwave</td>\n",
              "      <td>unknown</td>\n",
              "      <td>unknown</td>\n",
              "      <td>123.046875</td>\n",
              "      <td>0.086124</td>\n",
              "      <td>0.019305</td>\n",
              "      <td>0.465003</td>\n",
              "      <td>0.091298</td>\n",
              "      <td>0.125709</td>\n",
              "      <td>0.010414</td>\n",
              "      <td>1203.130772</td>\n",
              "      <td>544967.095292</td>\n",
              "      <td>1571.629642</td>\n",
              "      <td>271930.960428</td>\n",
              "      <td>2430.510303</td>\n",
              "      <td>2.719352e+06</td>\n",
              "      <td>0.037358</td>\n",
              "      <td>0.000802</td>\n",
              "      <td>-229.313522</td>\n",
              "      <td>9429.655273</td>\n",
              "      <td>134.605347</td>\n",
              "      <td>1823.803589</td>\n",
              "      <td>0.550017</td>\n",
              "      <td>811.274475</td>\n",
              "      <td>38.055122</td>\n",
              "      <td>184.199341</td>\n",
              "      <td>12.800261</td>\n",
              "      <td>235.535431</td>\n",
              "      <td>16.987812</td>\n",
              "      <td>155.599899</td>\n",
              "      <td>6.436337</td>\n",
              "      <td>128.978104</td>\n",
              "      <td>7.508077</td>\n",
              "      <td>70.387466</td>\n",
              "      <td>3.337813</td>\n",
              "      <td>76.336739</td>\n",
              "      <td>7.238113</td>\n",
              "      <td>47.641823</td>\n",
              "      <td>1.483276</td>\n",
              "      <td>66.782890</td>\n",
              "      <td>3.390823</td>\n",
              "      <td>42.814388</td>\n",
              "      <td>1.853302</td>\n",
              "      <td>61.285881</td>\n",
              "      <td>1.423907</td>\n",
              "      <td>28.887903</td>\n",
              "      <td>-0.764668</td>\n",
              "      <td>32.754395</td>\n",
              "      <td>-0.405367</td>\n",
              "      <td>26.202269</td>\n",
              "      <td>-0.564020</td>\n",
              "      <td>31.013176</td>\n",
              "      <td>1.760836</td>\n",
              "      <td>28.280481</td>\n",
              "      <td>-1.767216</td>\n",
              "      <td>31.522993</td>\n",
              "      <td>-3.007978</td>\n",
              "      <td>24.811836</td>\n",
              "    </tr>\n",
              "    <tr>\n",
              "      <th>4</th>\n",
              "      <td>Alakazam_!-Justice.mp3</td>\n",
              "      <td>electronica</td>\n",
              "      <td>disco</td>\n",
              "      <td>unknown</td>\n",
              "      <td>unknown</td>\n",
              "      <td>117.453835</td>\n",
              "      <td>0.123621</td>\n",
              "      <td>0.033682</td>\n",
              "      <td>0.519087</td>\n",
              "      <td>0.077803</td>\n",
              "      <td>0.137027</td>\n",
              "      <td>0.011996</td>\n",
              "      <td>4691.560922</td>\n",
              "      <td>559147.032562</td>\n",
              "      <td>3265.128319</td>\n",
              "      <td>36029.151082</td>\n",
              "      <td>8623.339523</td>\n",
              "      <td>3.120373e+05</td>\n",
              "      <td>0.322507</td>\n",
              "      <td>0.018975</td>\n",
              "      <td>-94.957077</td>\n",
              "      <td>4974.967773</td>\n",
              "      <td>15.633355</td>\n",
              "      <td>511.970886</td>\n",
              "      <td>17.379278</td>\n",
              "      <td>175.189011</td>\n",
              "      <td>9.183320</td>\n",
              "      <td>258.873962</td>\n",
              "      <td>11.982101</td>\n",
              "      <td>310.346069</td>\n",
              "      <td>12.071534</td>\n",
              "      <td>192.052597</td>\n",
              "      <td>-7.759117</td>\n",
              "      <td>116.697731</td>\n",
              "      <td>3.040752</td>\n",
              "      <td>166.798203</td>\n",
              "      <td>-6.754209</td>\n",
              "      <td>117.694801</td>\n",
              "      <td>0.802771</td>\n",
              "      <td>169.170380</td>\n",
              "      <td>-2.248677</td>\n",
              "      <td>229.951767</td>\n",
              "      <td>9.931625</td>\n",
              "      <td>164.132477</td>\n",
              "      <td>-1.633170</td>\n",
              "      <td>135.740356</td>\n",
              "      <td>3.474230</td>\n",
              "      <td>97.439529</td>\n",
              "      <td>-5.988054</td>\n",
              "      <td>92.406189</td>\n",
              "      <td>5.523672</td>\n",
              "      <td>58.979321</td>\n",
              "      <td>2.197058</td>\n",
              "      <td>62.623493</td>\n",
              "      <td>2.507752</td>\n",
              "      <td>56.384407</td>\n",
              "      <td>-3.283781</td>\n",
              "      <td>46.521439</td>\n",
              "      <td>2.584341</td>\n",
              "      <td>33.576317</td>\n",
              "    </tr>\n",
              "  </tbody>\n",
              "</table>\n",
              "</div>"
            ],
            "text/plain": [
              "                             song coarse_genre  ... mfcc_mean20  mfcc_var20\n",
              "0    7Horse_-_Answer_the_Bell.mp3         rock  ...    1.056222   25.469767\n",
              "1   A_Simple_Life-Brian_Crain.mp3      classic  ...   -4.363388  116.179855\n",
              "2  Adagio_in_G_Minor-Albinoni.mp3      classic  ...    1.746256   84.669807\n",
              "3      Age_Atomic-Solar_Bears.mp3  electronica  ...   -3.007978   24.811836\n",
              "4          Alakazam_!-Justice.mp3  electronica  ...    2.584341   33.576317\n",
              "\n",
              "[5 rows x 60 columns]"
            ]
          },
          "metadata": {
            "tags": []
          },
          "execution_count": 6
        }
      ]
    },
    {
      "cell_type": "code",
      "metadata": {
        "colab": {
          "base_uri": "https://localhost:8080/"
        },
        "id": "K1GtfH-yU6Lv",
        "outputId": "f5a3c178-97c7-40db-edfd-2542000edef9"
      },
      "source": [
        "data_more.shape"
      ],
      "execution_count": null,
      "outputs": [
        {
          "output_type": "execute_result",
          "data": {
            "text/plain": [
              "(670, 60)"
            ]
          },
          "metadata": {
            "tags": []
          },
          "execution_count": 18
        }
      ]
    },
    {
      "cell_type": "code",
      "metadata": {
        "id": "yThGv5tAUu3v"
      },
      "source": [
        "# Select data for top 5 most represented genres\n",
        "top_genres = ['pop', 'jazz', 'metal', 'hip-hop', 'rock']\n",
        "df_top_5 = data_more.query(\"coarse_genre == @top_genres\")\n",
        "\n",
        "y_top_5 = df_top_5['coarse_genre']\n",
        "X_top_5 = df_top_5.iloc[:,5:]"
      ],
      "execution_count": null,
      "outputs": []
    },
    {
      "cell_type": "code",
      "metadata": {
        "id": "DxvVvKVwVPvk"
      },
      "source": [
        "# Split data into train and test\n",
        "X_train, X_test, y_train, y_test = train_test_split(X_top_5, y_top_5, \n",
        "                                                    test_size=0.3,\n",
        "                                                    stratify=y_top_5, \n",
        "                                                    random_state=17)"
      ],
      "execution_count": null,
      "outputs": []
    },
    {
      "cell_type": "code",
      "metadata": {
        "colab": {
          "base_uri": "https://localhost:8080/"
        },
        "id": "39kqljSKUuNC",
        "outputId": "1b42dcaa-14e9-47d0-bfc2-c44ca4a118c2"
      },
      "source": [
        "# Find best KNN model using GridSearchCV\n",
        "best_knn = best_knn_grid(X_train, y_train)"
      ],
      "execution_count": null,
      "outputs": [
        {
          "output_type": "stream",
          "text": [
            "Fitting 5 folds for each of 72 candidates, totalling 360 fits\n"
          ],
          "name": "stdout"
        },
        {
          "output_type": "stream",
          "text": [
            "[Parallel(n_jobs=-1)]: Using backend LokyBackend with 2 concurrent workers.\n",
            "[Parallel(n_jobs=-1)]: Done  46 tasks      | elapsed:    3.6s\n",
            "[Parallel(n_jobs=-1)]: Done 196 tasks      | elapsed:   12.2s\n",
            "[Parallel(n_jobs=-1)]: Done 360 out of 360 | elapsed:   21.7s finished\n"
          ],
          "name": "stderr"
        }
      ]
    },
    {
      "cell_type": "code",
      "metadata": {
        "colab": {
          "base_uri": "https://localhost:8080/"
        },
        "id": "KWjEvFrgVUmw",
        "outputId": "b751bb37-de14-4eb1-b9bb-fcbd5d7f5cd9"
      },
      "source": [
        "# Predict on test data\n",
        "y_pred = best_knn.predict(X_test)\n",
        "# Model evaluation\n",
        "print(classification_report(y_test, y_pred))"
      ],
      "execution_count": null,
      "outputs": [
        {
          "output_type": "stream",
          "text": [
            "              precision    recall  f1-score   support\n",
            "\n",
            "     hip-hop       0.69      0.73      0.71        30\n",
            "        jazz       0.88      0.73      0.80        30\n",
            "       metal       0.81      0.84      0.83        31\n",
            "         pop       0.61      0.73      0.67        30\n",
            "        rock       0.58      0.50      0.54        30\n",
            "\n",
            "    accuracy                           0.71       151\n",
            "   macro avg       0.71      0.71      0.71       151\n",
            "weighted avg       0.71      0.71      0.71       151\n",
            "\n"
          ],
          "name": "stdout"
        }
      ]
    },
    {
      "cell_type": "markdown",
      "metadata": {
        "id": "6FAyyzVuVi3U"
      },
      "source": [
        "The best class that can be determined by out KNN classifier is jazz and metal. Probably, jazz music has less voice content resulting in different spectral characteristics and better distinguishing from other genres (the highest precision). Rock genre is difficult to identify compared with other genres probably because it include broad number of sub-genres  some of which share similar sound characteristics with other genres such as metal and pop. For instance, in some cases alternative rock could resemble pop. \n",
        "\n",
        "To improve the quality of our model, let us reduce number of features and remove some noise using PCA and then apply KNN.  "
      ]
    },
    {
      "cell_type": "code",
      "metadata": {
        "colab": {
          "base_uri": "https://localhost:8080/"
        },
        "id": "I2oL0Q4VEnWu",
        "outputId": "580d32ac-decd-4091-bdea-e864975507de"
      },
      "source": [
        "# Reduce dimension of data - number of features using PCA\n",
        "X_train_reduced, X_test_reduced, pca_n_components_ = reduce_dim_with_pca(X_train,X_test)\n",
        "\n",
        "print(f\"Shape of reduced train data is {X_train_reduced.shape}\\n\"\n",
        "f\"Shape of initial train data is {X_train.shape}\")\n",
        "\n",
        "print(f\"Number of used components: {pca_n_components_}\")"
      ],
      "execution_count": null,
      "outputs": [
        {
          "output_type": "stream",
          "text": [
            "Shape of reduced train data is (352, 29)\n",
            "Shape of initial train data is (352, 55)\n",
            "Number of used components: 29\n"
          ],
          "name": "stdout"
        }
      ]
    },
    {
      "cell_type": "code",
      "metadata": {
        "colab": {
          "base_uri": "https://localhost:8080/"
        },
        "id": "BCGk8nDxEmtf",
        "outputId": "8ee18566-1cfe-4b11-8f08-bc4139e024bf"
      },
      "source": [
        "best_knn = best_knn_grid(X_train_reduced, y_train)"
      ],
      "execution_count": null,
      "outputs": [
        {
          "output_type": "stream",
          "text": [
            "Fitting 5 folds for each of 72 candidates, totalling 360 fits\n"
          ],
          "name": "stdout"
        },
        {
          "output_type": "stream",
          "text": [
            "[Parallel(n_jobs=-1)]: Using backend LokyBackend with 2 concurrent workers.\n",
            "[Parallel(n_jobs=-1)]: Done  88 tasks      | elapsed:    4.8s\n",
            "[Parallel(n_jobs=-1)]: Done 360 out of 360 | elapsed:   19.5s finished\n"
          ],
          "name": "stderr"
        }
      ]
    },
    {
      "cell_type": "code",
      "metadata": {
        "colab": {
          "base_uri": "https://localhost:8080/"
        },
        "id": "cv4GIYWQFjwa",
        "outputId": "d0955d76-fa07-45eb-885f-9eaa8d0d65b2"
      },
      "source": [
        "# Predict on test data\n",
        "y_pred = best_knn.predict(X_test_reduced)\n",
        "# Model evaluation\n",
        "print(classification_report(y_test, y_pred))"
      ],
      "execution_count": null,
      "outputs": [
        {
          "output_type": "stream",
          "text": [
            "              precision    recall  f1-score   support\n",
            "\n",
            "     hip-hop       0.77      0.67      0.71        30\n",
            "        jazz       0.73      0.63      0.68        30\n",
            "       metal       0.76      0.84      0.80        31\n",
            "         pop       0.65      0.87      0.74        30\n",
            "        rock       0.60      0.50      0.55        30\n",
            "\n",
            "    accuracy                           0.70       151\n",
            "   macro avg       0.70      0.70      0.70       151\n",
            "weighted avg       0.70      0.70      0.70       151\n",
            "\n"
          ],
          "name": "stdout"
        }
      ]
    },
    {
      "cell_type": "markdown",
      "metadata": {
        "id": "RnD7zA0WFlG_"
      },
      "source": [
        "Metrics are a little lower if we use KNN on data after PCA dimensionality reduction. We can suggest that removing some information accounted by PCA as noise we also removed some important feautures, which resulted in a little declined metrics. "
      ]
    },
    {
      "cell_type": "markdown",
      "metadata": {
        "id": "t3x_I5mDYqdO"
      },
      "source": [
        "# Keras sequential model classification\n",
        "\n",
        "\n"
      ]
    },
    {
      "cell_type": "code",
      "metadata": {
        "id": "c9TvwkiW67P0"
      },
      "source": [
        "tf.get_logger().setLevel('ERROR')"
      ],
      "execution_count": null,
      "outputs": []
    },
    {
      "cell_type": "code",
      "metadata": {
        "id": "_okJgN397FOy"
      },
      "source": [
        "## Seed value\n",
        "SEED= 17\n",
        "\n",
        "# 1. Set `PYTHONHASHSEED` environment variable at a fixed value\n",
        "os.environ['PYTHONHASHSEED']=str(SEED)\n",
        "\n",
        "\n",
        "# 2. Set `numpy` pseudo-random generator at a fixed value\n",
        "np.random.seed(SEED)\n",
        "\n",
        "# 3. Set the `tensorflow` pseudo-random generator at a fixed value\n",
        "tf.random.set_seed(SEED)\n",
        "\n",
        "# 4. Configure a new global `tensorflow` session\n",
        "session_conf = tf.compat.v1.ConfigProto(intra_op_parallelism_threads=1, \n",
        "                                        inter_op_parallelism_threads=1)\n",
        "sess = tf.compat.v1.Session(graph=tf.compat.v1.get_default_graph(), \n",
        "                            config=session_conf)\n",
        "tf.compat.v1.keras.backend.set_session(sess)"
      ],
      "execution_count": null,
      "outputs": []
    },
    {
      "cell_type": "markdown",
      "metadata": {
        "id": "gJjG-ImYRkba"
      },
      "source": [
        "We would continue working with data used in previous section dedicated to KNN classification. We will use a simple model with the following layers: \\\n",
        "- an input layer is regular densely-connected NN layer; rectified linear unit activation function ('relu') and the Glorot uniform initializer are used ('glorot_uniform'); \\\n",
        "- layers  2-5 are regular densely-connected NN layers,  with rectified linear unit activation function ('relu') and the Glorot uniform initializer ('glorot_uniform'); \n",
        "- an output layer consists of # of neurons equal to # of genres (namely, 5); softmax activation function is used.\n",
        "\n",
        "We apply dropout regularization with the rate of 0.4 and Batch normalization to almost every densely-connected NN layer except for the output layer. \n",
        "\n",
        "Optimizer would implement the RMSprop algorithm. The categorical crossentropy loss between the labels and predictions would be computed.\n",
        "\n",
        "We will also construct custom function to repeat calculations 30 times with 5-fold cross validation on 100 epochs and compute  training and validation accuracy and loss values. "
      ]
    },
    {
      "cell_type": "code",
      "metadata": {
        "id": "_17La1txac21"
      },
      "source": [
        "def get_model(input_NN=55, output_NN=5, optimizer_='rmsprop',\n",
        "              loss_='categorical_crossentropy',\n",
        "              metrics_=['accuracy'] ):\n",
        "    \"\"\"\n",
        "    Create keras sequential model: \n",
        "    - 6 densely-connected NN layers with \n",
        "    rectified linear unit activation function (all layers except for output)\n",
        "    or softmax activation function (output layer)\n",
        "    and the Glorot uniform initializer (except for output layer)\n",
        "    - dropout regularization with the rate of 0.4 \n",
        "    and Batch normalization are applied to each densely-connected NN layer \n",
        "    except for the output layer\n",
        "    \"\"\"\n",
        "    model = Sequential()\n",
        "    model.add(Dense(1024, activation='relu', kernel_initializer='glorot_uniform', \n",
        "                    input_shape=(input_NN,)))\n",
        "    model.add(Dropout(0.4))\n",
        "    model.add(BatchNormalization())\n",
        "\n",
        "    model.add(Dense(512, activation='relu', kernel_initializer='glorot_uniform'))\n",
        "    model.add(Dropout(0.4))\n",
        "    model.add(BatchNormalization())\n",
        "\n",
        "    model.add(Dense(256, activation='relu', kernel_initializer='glorot_uniform'))\n",
        "    model.add(Dropout(0.4))\n",
        "    model.add(BatchNormalization())\n",
        "\n",
        "    model.add(Dense(128, activation='relu', kernel_initializer='glorot_uniform'))\n",
        "    model.add(Dropout(0.4))\n",
        "    model.add(BatchNormalization())\n",
        "\n",
        "    model.add(Dense(64, activation='relu', kernel_initializer='glorot_uniform'))\n",
        "    model.add(Dropout(0.4))\n",
        "    model.add(BatchNormalization())\n",
        "\n",
        "    model.add(Dense(output_NN, activation='softmax'))\n",
        "    \n",
        "    \"\"\"\n",
        "    Configure a model that will be trained;\n",
        "    default parameters:\n",
        "    - RMSprop optimization algorithm\n",
        "    - loss function sparse_categorical_crossentropy\n",
        "    - metric for evaluating is accuracy \n",
        "    \"\"\"\n",
        "    model.compile(optimizer=optimizer_,\n",
        "                  loss=loss_,\n",
        "                  metrics=metrics_)\n",
        "    return model"
      ],
      "execution_count": null,
      "outputs": []
    },
    {
      "cell_type": "code",
      "metadata": {
        "id": "mVc9oUxt2NS8"
      },
      "source": [
        "def compute_conf_intervals(measurement_lst, confidence=0.95):\n",
        "    mean_ = np.mean(measurement_lst)\n",
        "    standard_error_ = stats.sem(measurement_lst, ddof=0)\n",
        "    lower_limit, upper_limit = stats.norm.interval(confidence, \n",
        "                                      loc=mean_, \n",
        "                                      scale=standard_error_)\n",
        "    return mean_, lower_limit, upper_limit"
      ],
      "execution_count": null,
      "outputs": []
    },
    {
      "cell_type": "code",
      "metadata": {
        "id": "QoKvPkn07T9x"
      },
      "source": [
        "def encodeY_normilizeX(y_, X_):\n",
        "    \"\"\"\n",
        "    Encode Y into integers so that each integer will represent the specific class.\n",
        "    Normalizing the dataset: x is calculated \n",
        "    by removing the mean and dividing by the variance.\n",
        "    Returns a tuple: <y_encoded>, <X_normalized>.\n",
        "    \"\"\"\n",
        "    encoder = LabelEncoder()\n",
        "    scaler = StandardScaler()\n",
        "    return encoder.fit_transform(y_), scaler.fit_transform(np.array(X_, \n",
        "                                                                    dtype = float))"
      ],
      "execution_count": null,
      "outputs": []
    },
    {
      "cell_type": "code",
      "metadata": {
        "id": "rm6aopRx2NXK"
      },
      "source": [
        "def run_keras_model(X_norm, y_encoded,\n",
        "                  repeats=30, k_fold=5,\n",
        "                  test_size_=0.33, \n",
        "                  random_state_=17, \n",
        "                  epochs_=100, batch_size_=128,\n",
        "                  verbose_=0):\n",
        "    \"\"\"\n",
        "    Runs sequential keras model <repeats> times with <k_fold> cross-validation,\n",
        "    on <epochs_> epochs;\n",
        "    Returns tuple of 4 metrics lists: loss function and accuracy on training,\n",
        "    loss function and accuracy on validation \n",
        "    \"\"\"\n",
        "    \n",
        "    rskf = RepeatedStratifiedKFold(n_splits=k_fold, \n",
        "                                   n_repeats=repeats, \n",
        "                                   random_state=random_state_)\n",
        "  \n",
        "    loss_train = []\n",
        "    acc_train = []\n",
        "    val_loss = []\n",
        "    val_acc = []\n",
        "\n",
        "    for train_index, val_index in rskf.split(X_norm, y_encoded): \n",
        "      X_train, X_test = X_norm[train_index], X_norm[val_index]\n",
        "      y_train, y_test = y_encoded[train_index], y_encoded[val_index]\n",
        "      \n",
        "      \n",
        "      model =  KerasClassifier(build_fn=get_model, \n",
        "                                verbose=verbose_, \n",
        "                                epochs=epochs_, \n",
        "                                batch_size=batch_size_)\n",
        "      \n",
        "      \n",
        "      \n",
        "      hist = model.fit(X_train, y_train, verbose=verbose_)\n",
        "      \n",
        "      loss_train.append(hist.history['loss'])\n",
        "      acc_train.append(hist.history['accuracy'])\n",
        "      \n",
        "      pred = model.predict(X_test, verbose=verbose_)\n",
        "      val_acc.append(accuracy_score(y_test, pred))\n",
        "      y_true = tf.convert_to_tensor(y_test)\n",
        "      y_pred = tf.convert_to_tensor(pred)\n",
        "      val_loss.append(tf.keras.losses.categorical_crossentropy(y_true, \n",
        "                                                               y_pred).numpy())\n",
        "\n",
        "    return loss_train, acc_train, val_loss, val_acc"
      ],
      "execution_count": null,
      "outputs": []
    },
    {
      "cell_type": "code",
      "metadata": {
        "id": "DgLoZ-4w-Fpk"
      },
      "source": [
        "def accuracy_for_each_class(target_test, preds):\n",
        "    table = pd.DataFrame({'accuracy':0, 'class':encoder.classes_})\n",
        "    class_correct = [0 for i in range(10)]\n",
        "    class_total = [0 for i in range(10)]\n",
        "    names = encoder.classes_\n",
        "\n",
        "    c = np.array(np.array(preds) == np.array(target_test))\n",
        "    for i in range(len(preds)):\n",
        "        label =preds[i]            \n",
        "        class_correct[label] += c[i]\n",
        "        class_total[label] += 1\n",
        "\n",
        "    for i in range(5):\n",
        "        table.loc[i, 'class'] = names[i]\n",
        "        if class_total[i] != 0:\n",
        "          table.loc[i, 'accuracy'] = 100 * class_correct[i] / class_total[i]  \n",
        "        else:\n",
        "          table.loc[i, 'accuracy'] = -1\n",
        "       \n",
        "    table.index = table['class']\n",
        "    \n",
        "    return table"
      ],
      "execution_count": null,
      "outputs": []
    },
    {
      "cell_type": "code",
      "metadata": {
        "id": "1Nq4L5sE-GU4"
      },
      "source": [
        "def ranking(y, title='', xlabel='', ylabel=''):\n",
        "    y_pos = np.arange(len(y),0,-1)\n",
        "    plt.figure(figsize=(12, 8))\n",
        "    #add grid  \n",
        "    cmap = cm.magma_r\n",
        "    bar_colors = cmap(y.values/np.max(y.values))\n",
        "    norm= colors.Normalize(0, np.max(y.values))\n",
        "    plt.yticks(y_pos, y.index)\n",
        "    plt.title(title)\n",
        "    plt.xlabel(xlabel)\n",
        "    plt.ylabel(ylabel)\n",
        "    plt.grid()\n",
        "    plt.rc('axes', axisbelow=True)\n",
        "    plt.barh(y_pos, width=y, height=0.6, left=None, align='center', color=bar_colors)\n",
        "    plt.colorbar(cm.ScalarMappable(norm =norm, cmap=cmap))\n",
        "    #plt.savefig('accuracy_each_class.png')\n",
        "    \n",
        "    for p, c, ch in zip(y_pos, y.index, round(y,4)):\n",
        "        plt.annotate(str(round(ch,4)), xy=(ch if ch>0 else 0, p), va='center')"
      ],
      "execution_count": null,
      "outputs": []
    },
    {
      "cell_type": "code",
      "metadata": {
        "id": "YNeHKRA27L_d"
      },
      "source": [
        "y_encoded, X_norm = encodeY_normilizeX(y_top_5, X_top_5)"
      ],
      "execution_count": null,
      "outputs": []
    },
    {
      "cell_type": "code",
      "metadata": {
        "id": "-x32G05y7CRC"
      },
      "source": [
        "X_train, X_test, y_train, y_test = train_test_split(X_norm, y_encoded, \n",
        "                                                    test_size=0.33, \n",
        "                                                    random_state=SEED, \n",
        "                                                    shuffle = True)"
      ],
      "execution_count": null,
      "outputs": []
    },
    {
      "cell_type": "code",
      "metadata": {
        "colab": {
          "base_uri": "https://localhost:8080/",
          "height": 410
        },
        "id": "Z4CjUy_1KI99",
        "outputId": "00d7a85f-6589-4998-9944-ac1d7907ca96"
      },
      "source": [
        "model =  KerasClassifier(build_fn=get_model, verbose=0, epochs=100, batch_size=128)\n",
        "history = model.fit(X_train, y_train)\n",
        "pd.DataFrame(history.history).plot(figsize=(12,6))\n",
        "plt.xlabel(\"epochs\")\n",
        "plt.ylabel(\"Metric\")\n",
        "plt.title('Metric change with epochs')\n",
        "plt.grid()\n",
        "plt.show()"
      ],
      "execution_count": null,
      "outputs": [
        {
          "output_type": "display_data",
          "data": {
            "image/png": "[encoded data removed]",
            "text/plain": [
              "<Figure size 864x432 with 1 Axes>"
            ]
          },
          "metadata": {
            "tags": [],
            "needs_background": "light"
          }
        }
      ]
    },
    {
      "cell_type": "code",
      "metadata": {
        "colab": {
          "base_uri": "https://localhost:8080/"
        },
        "id": "Av0GE9W7xNwM",
        "outputId": "0480dee4-faf4-4e4c-dd25-aaed109fc19a"
      },
      "source": [
        "y_pred = model.predict(X_test)"
      ],
      "execution_count": null,
      "outputs": [
        {
          "output_type": "stream",
          "text": [
            "WARNING:tensorflow:11 out of the last 11 calls to <function Model.make_predict_function.<locals>.predict_function at 0x7fb016f9b3b0> triggered tf.function retracing. Tracing is expensive and the excessive number of tracings could be due to (1) creating @tf.function repeatedly in a loop, (2) passing tensors with different shapes, (3) passing Python objects instead of tensors. For (1), please define your @tf.function outside of the loop. For (2), @tf.function has experimental_relax_shapes=True option that relaxes argument shapes that can avoid unnecessary retracing. For (3), please refer to https://www.tensorflow.org/guide/function#controlling_retracing and https://www.tensorflow.org/api_docs/python/tf/function for  more details.\n"
          ],
          "name": "stdout"
        },
        {
          "output_type": "stream",
          "text": [
            "/usr/local/lib/python3.7/dist-packages/tensorflow/python/keras/engine/sequential.py:450: UserWarning: `model.predict_classes()` is deprecated and will be removed after 2021-01-01. Please use instead:* `np.argmax(model.predict(x), axis=-1)`,   if your model does multi-class classification   (e.g. if it uses a `softmax` last-layer activation).* `(model.predict(x) > 0.5).astype(\"int32\")`,   if your model does binary classification   (e.g. if it uses a `sigmoid` last-layer activation).\n",
            "  warnings.warn('`model.predict_classes()` is deprecated and '\n"
          ],
          "name": "stderr"
        }
      ]
    },
    {
      "cell_type": "code",
      "metadata": {
        "colab": {
          "base_uri": "https://localhost:8080/"
        },
        "id": "1emYBXMVxN5W",
        "outputId": "012b6667-3ef7-414e-f4e3-541c62d9ed54"
      },
      "source": [
        "print(classification_report(y_test, y_pred))"
      ],
      "execution_count": null,
      "outputs": [
        {
          "output_type": "stream",
          "text": [
            "              precision    recall  f1-score   support\n",
            "\n",
            "           0       0.71      0.67      0.69        36\n",
            "           1       0.93      0.87      0.90        30\n",
            "           2       0.87      0.82      0.84        33\n",
            "           3       0.66      0.85      0.74        34\n",
            "           4       0.55      0.48      0.52        33\n",
            "\n",
            "    accuracy                           0.73       166\n",
            "   macro avg       0.74      0.74      0.74       166\n",
            "weighted avg       0.74      0.73      0.73       166\n",
            "\n"
          ],
          "name": "stdout"
        }
      ]
    },
    {
      "cell_type": "code",
      "metadata": {
        "colab": {
          "base_uri": "https://localhost:8080/",
          "height": 518
        },
        "id": "cvtskjSv-OJp",
        "outputId": "0cfbac43-a67f-4f5e-a98f-2466406a5766"
      },
      "source": [
        "ranking(accuracy_for_each_class(y_test, y_pred).sort_values(by = 'accuracy', ascending = False)['accuracy'], title='Accuracy for each class', xlabel='accuracy', ylabel='class')"
      ],
      "execution_count": null,
      "outputs": [
        {
          "output_type": "display_data",
          "data": {
            "image/png": "[encoded data removed]",
            "text/plain": [
              "<Figure size 864x576 with 2 Axes>"
            ]
          },
          "metadata": {
            "tags": [],
            "needs_background": "light"
          }
        }
      ]
    },
    {
      "cell_type": "markdown",
      "metadata": {
        "id": "QUDweKQLQEY8"
      },
      "source": [
        "It seems that classification using keras sequential model gave higher accuracy than KNN classification performed earlier. Jazz music is better distinguished than other genres. \n",
        "However, we obtained this result by a signle run without repeats. Both training loss and accuracy change stochastically throughout epochs. "
      ]
    },
    {
      "cell_type": "markdown",
      "metadata": {
        "id": "_z0CWYJfLGAy"
      },
      "source": [
        "To consider stochastics behaviour in NN computations, we will run the model **repeatedly** (30 times) with **k-fold cross-validation** (cv=5) and get training & validation loss and accuracy values."
      ]
    },
    {
      "cell_type": "code",
      "metadata": {
        "id": "CATCEUcO9uNz"
      },
      "source": [
        "res = run_keras_model(X_norm.astype('float32'), y_encoded.astype('float32'),\n",
        "                      random_state_=SEED, epochs_=100)"
      ],
      "execution_count": null,
      "outputs": []
    },
    {
      "cell_type": "code",
      "metadata": {
        "id": "5xzOg-5KDqRI"
      },
      "source": [
        "loss_train, acc_train, val_loss, val_acc = res"
      ],
      "execution_count": null,
      "outputs": []
    },
    {
      "cell_type": "code",
      "metadata": {
        "colab": {
          "base_uri": "https://localhost:8080/",
          "height": 410
        },
        "id": "Y6qczA40BV3w",
        "outputId": "101b382f-3e09-43ca-cd0b-65219763d03f"
      },
      "source": [
        "plt.figure(figsize=(12, 6))\n",
        "plt.plot(range(1,101), np.mean(np.array(loss_train), axis=0))\n",
        "plt.xlabel(\"epochs\")\n",
        "plt.plot(range(1,101), np.mean(np.array(acc_train), axis=0))\n",
        "plt.ylabel(\"Mean metric\")\n",
        "plt.title('Mean metric changes with epochs')\n",
        "plt.legend(['mean training loss', 'mean training accuracy'])\n",
        "plt.grid()\n",
        "plt.show()"
      ],
      "execution_count": null,
      "outputs": [
        {
          "output_type": "display_data",
          "data": {
            "image/png": "[encoded data removed]",
            "text/plain": [
              "<Figure size 864x432 with 1 Axes>"
            ]
          },
          "metadata": {
            "tags": [],
            "needs_background": "light"
          }
        }
      ]
    },
    {
      "cell_type": "code",
      "metadata": {
        "colab": {
          "base_uri": "https://localhost:8080/"
        },
        "id": "lCT7RpYrg6xn",
        "outputId": "44070ec9-7bb1-4895-c622-06e01131c681"
      },
      "source": [
        "mean_acc, up_lim_acc, low_lim_acc = compute_conf_intervals(val_acc)\n",
        "print(f\"Mean validation accuracy on {30} repeats with {5}-fold cross-validation is {round(mean_acc, 3)},\\n\"\n",
        "      f\"the 0.95% confidence interval is [{round(up_lim_acc,3)}, {round(low_lim_acc,3)}].\")"
      ],
      "execution_count": null,
      "outputs": [
        {
          "output_type": "stream",
          "text": [
            "Mean validation accuracy on 30 repeats with 5-fold cross-validation is 0.769,\n",
            "the 0.95% confidence interval is [0.745, 0.793].\n"
          ],
          "name": "stdout"
        }
      ]
    },
    {
      "cell_type": "markdown",
      "metadata": {
        "id": "qQbu1P9LALuZ"
      },
      "source": [
        "After repeatedly (30 times) running a model on 5-fold cross-validation we obtained less stochastic, more smooth curve of training loss and accuracy changes with epochs. Obtained mean accuracy is higher than in case of KNN model. "
      ]
    },
    {
      "cell_type": "markdown",
      "metadata": {
        "id": "2PJrUS7510mZ"
      },
      "source": [
        "# Random Forest"
      ]
    },
    {
      "cell_type": "markdown",
      "metadata": {
        "id": "HbxV4YytApGi"
      },
      "source": [
        "We next apply Random Forest classifier."
      ]
    },
    {
      "cell_type": "code",
      "metadata": {
        "id": "aBJtDAi53i7U"
      },
      "source": [
        "clf_rf = RandomForestClassifier()"
      ],
      "execution_count": null,
      "outputs": []
    },
    {
      "cell_type": "code",
      "metadata": {
        "id": "953C3sAJ3i9Y"
      },
      "source": [
        "# parameters for tuning\n",
        "parametrs = {'n_estimators': range(5, 50, 10),\n",
        "             'max_depth': range(1, 10),\n",
        "             'min_samples_split': range(2, 11),\n",
        "             'min_samples_leaf': range(2, 10),\n",
        "             'max_features': range(3, 55)}"
      ],
      "execution_count": null,
      "outputs": []
    },
    {
      "cell_type": "code",
      "metadata": {
        "id": "mAWIsBaN3i_Q"
      },
      "source": [
        "search_clf = RandomizedSearchCV(clf_rf, parametrs, cv=StratifiedKFold(5)) "
      ],
      "execution_count": null,
      "outputs": []
    },
    {
      "cell_type": "code",
      "metadata": {
        "colab": {
          "base_uri": "https://localhost:8080/"
        },
        "id": "kKHvaAGv3jCC",
        "outputId": "acaef9d0-5d3b-4e6d-9680-cfb50800b675"
      },
      "source": [
        "# parameters tuning and tree fitting\n",
        "search_clf.fit(X_train, y_train) "
      ],
      "execution_count": null,
      "outputs": [
        {
          "output_type": "execute_result",
          "data": {
            "text/plain": [
              "RandomizedSearchCV(cv=StratifiedKFold(n_splits=5, random_state=None, shuffle=False),\n",
              "                   error_score=nan,\n",
              "                   estimator=RandomForestClassifier(bootstrap=True,\n",
              "                                                    ccp_alpha=0.0,\n",
              "                                                    class_weight=None,\n",
              "                                                    criterion='gini',\n",
              "                                                    max_depth=None,\n",
              "                                                    max_features='auto',\n",
              "                                                    max_leaf_nodes=None,\n",
              "                                                    max_samples=None,\n",
              "                                                    min_impurity_decrease=0.0,\n",
              "                                                    min_impurity_split=None,\n",
              "                                                    min_samples_leaf=1,\n",
              "                                                    min_samples_sp...\n",
              "                                                    random_state=None,\n",
              "                                                    verbose=0,\n",
              "                                                    warm_start=False),\n",
              "                   iid='deprecated', n_iter=10, n_jobs=None,\n",
              "                   param_distributions={'max_depth': range(1, 10),\n",
              "                                        'max_features': range(3, 55),\n",
              "                                        'min_samples_leaf': range(2, 10),\n",
              "                                        'min_samples_split': range(2, 11),\n",
              "                                        'n_estimators': range(5, 50, 10)},\n",
              "                   pre_dispatch='2*n_jobs', random_state=None, refit=True,\n",
              "                   return_train_score=False, scoring=None, verbose=0)"
            ]
          },
          "metadata": {
            "tags": []
          },
          "execution_count": 48
        }
      ]
    },
    {
      "cell_type": "code",
      "metadata": {
        "colab": {
          "base_uri": "https://localhost:8080/"
        },
        "id": "HY8ir15I3WAG",
        "outputId": "8a7e3918-edb9-4cc4-f6ce-57c4a673bd81"
      },
      "source": [
        "# take a look at best parameters\n",
        "search_clf.best_params_ "
      ],
      "execution_count": null,
      "outputs": [
        {
          "output_type": "execute_result",
          "data": {
            "text/plain": [
              "{'max_depth': 7,\n",
              " 'max_features': 19,\n",
              " 'min_samples_leaf': 7,\n",
              " 'min_samples_split': 3,\n",
              " 'n_estimators': 15}"
            ]
          },
          "metadata": {
            "tags": []
          },
          "execution_count": 49
        }
      ]
    },
    {
      "cell_type": "code",
      "metadata": {
        "id": "PZ0m8Lu53WDO"
      },
      "source": [
        "# take best classifier\n",
        "best_clf = search_clf.best_estimator_ "
      ],
      "execution_count": null,
      "outputs": []
    },
    {
      "cell_type": "code",
      "metadata": {
        "colab": {
          "base_uri": "https://localhost:8080/"
        },
        "id": "OwSeSXg43WGO",
        "outputId": "d997a8db-33d8-411b-a410-a615996955e3"
      },
      "source": [
        "y_train_pred = best_clf.predict(X_train)\n",
        "print(classification_report(y_train, y_train_pred))"
      ],
      "execution_count": null,
      "outputs": [
        {
          "output_type": "stream",
          "text": [
            "              precision    recall  f1-score   support\n",
            "\n",
            "           0       0.92      0.88      0.90        64\n",
            "           1       0.92      0.96      0.94        71\n",
            "           2       0.91      0.91      0.91        68\n",
            "           3       0.92      0.89      0.91        66\n",
            "           4       0.79      0.81      0.80        68\n",
            "\n",
            "    accuracy                           0.89       337\n",
            "   macro avg       0.89      0.89      0.89       337\n",
            "weighted avg       0.89      0.89      0.89       337\n",
            "\n"
          ],
          "name": "stdout"
        }
      ]
    },
    {
      "cell_type": "code",
      "metadata": {
        "colab": {
          "base_uri": "https://localhost:8080/"
        },
        "id": "ctm4bTHk3WJg",
        "outputId": "38deee52-347c-4a75-8972-4d176b0972f7"
      },
      "source": [
        "y_pred = best_clf.predict(X_test)\n",
        "print(classification_report(y_test, y_pred))"
      ],
      "execution_count": null,
      "outputs": [
        {
          "output_type": "stream",
          "text": [
            "              precision    recall  f1-score   support\n",
            "\n",
            "           0       0.61      0.53      0.57        36\n",
            "           1       0.72      0.87      0.79        30\n",
            "           2       0.76      0.76      0.76        33\n",
            "           3       0.62      0.68      0.65        34\n",
            "           4       0.55      0.48      0.52        33\n",
            "\n",
            "    accuracy                           0.66       166\n",
            "   macro avg       0.65      0.66      0.66       166\n",
            "weighted avg       0.65      0.66      0.65       166\n",
            "\n"
          ],
          "name": "stdout"
        }
      ]
    },
    {
      "cell_type": "code",
      "metadata": {
        "id": "CS4o1Lsq3WNH"
      },
      "source": [
        "importance = best_clf.feature_importances_\n",
        "features_names = X_top_5.columns.values"
      ],
      "execution_count": null,
      "outputs": []
    },
    {
      "cell_type": "code",
      "metadata": {
        "id": "vhglX20p3NdL",
        "colab": {
          "base_uri": "https://localhost:8080/",
          "height": 628
        },
        "outputId": "b35dd87d-e364-4565-c59b-b42563976604"
      },
      "source": [
        "plt.rcParams['font.size'] = 12\n",
        "plt.subplots(figsize=(10, 8))\n",
        "\n",
        "(pd.Series(best_clf.feature_importances_, index=X_top_5.columns)\n",
        " .nlargest(6)\n",
        " .plot.bar(color=['orange']))\n",
        "plt.grid()\n",
        "plt.rc('axes', axisbelow=True)\n",
        "plt.title(\"Feature importance\")"
      ],
      "execution_count": null,
      "outputs": [
        {
          "output_type": "execute_result",
          "data": {
            "text/plain": [
              "Text(0.5, 1.0, 'Feature importance')"
            ]
          },
          "metadata": {
            "tags": []
          },
          "execution_count": 65
        },
        {
          "output_type": "display_data",
          "data": {
            "image/png": "[encoded data removed]",
            "text/plain": [
              "<Figure size 720x576 with 1 Axes>"
            ]
          },
          "metadata": {
            "tags": [],
            "needs_background": "light"
          }
        }
      ]
    },
    {
      "cell_type": "markdown",
      "metadata": {
        "id": "JSNdVgxVAyvW"
      },
      "source": [
        "Obviously, metrics obtained with Random Forest classifier are lower than metrics obtained with Keras sequential model."
      ]
    },
    {
      "cell_type": "markdown",
      "metadata": {
        "id": "B35__SoQKFnz"
      },
      "source": [
        "\n",
        "# Multilabel classification"
      ]
    },
    {
      "cell_type": "markdown",
      "metadata": {
        "id": "Mv33bq2gxYEd"
      },
      "source": [
        "### Idea"
      ]
    },
    {
      "cell_type": "markdown",
      "metadata": {
        "id": "1kQQWI8XuLaQ"
      },
      "source": [
        "Our goal was to learn how to predict subgenres of music tracks by genres, prepared in the dataset of the Bioinformatics Institute.\n",
        "\n",
        "We have updated the dataset by adding a number of new subgenres to it and combining similar genres into one. So we got the following dataset:"
      ]
    },
    {
      "cell_type": "code",
      "metadata": {
        "colab": {
          "base_uri": "https://localhost:8080/",
          "height": 309
        },
        "id": "q-MIIXOnwB-f",
        "outputId": "4d2cdaaa-0c3d-40fb-a737-dfe1130b41a9"
      },
      "source": [
        "multi_lab = pd.read_csv(\"multi_label_music - Лист1.csv\")\n",
        "multi_lab.head()"
      ],
      "execution_count": 66,
      "outputs": [
        {
          "output_type": "execute_result",
          "data": {
            "text/html": [
              "<div>\n",
              "<style scoped>\n",
              "    .dataframe tbody tr th:only-of-type {\n",
              "        vertical-align: middle;\n",
              "    }\n",
              "\n",
              "    .dataframe tbody tr th {\n",
              "        vertical-align: top;\n",
              "    }\n",
              "\n",
              "    .dataframe thead th {\n",
              "        text-align: right;\n",
              "    }\n",
              "</style>\n",
              "<table border=\"1\" class=\"dataframe\">\n",
              "  <thead>\n",
              "    <tr style=\"text-align: right;\">\n",
              "      <th></th>\n",
              "      <th>song</th>\n",
              "      <th>coarse_genre</th>\n",
              "      <th>genre1</th>\n",
              "      <th>genre2</th>\n",
              "      <th>genre3</th>\n",
              "      <th>chroma_stft</th>\n",
              "      <th>rms</th>\n",
              "      <th>spectral_centroid</th>\n",
              "      <th>spectral_bandwidth</th>\n",
              "      <th>rolloff</th>\n",
              "      <th>zero_crossing_rate</th>\n",
              "      <th>mfcc1</th>\n",
              "      <th>mfcc2</th>\n",
              "      <th>mfcc3</th>\n",
              "      <th>mfcc4</th>\n",
              "      <th>mfcc5</th>\n",
              "      <th>mfcc6</th>\n",
              "      <th>mfcc7</th>\n",
              "      <th>mfcc8</th>\n",
              "      <th>mfcc9</th>\n",
              "      <th>mfcc10</th>\n",
              "      <th>mfcc11</th>\n",
              "      <th>mfcc12</th>\n",
              "      <th>mfcc13</th>\n",
              "      <th>mfcc14</th>\n",
              "      <th>mfcc15</th>\n",
              "      <th>mfcc16</th>\n",
              "      <th>mfcc17</th>\n",
              "      <th>mfcc18</th>\n",
              "      <th>mfcc19</th>\n",
              "      <th>mfcc20</th>\n",
              "      <th>label</th>\n",
              "    </tr>\n",
              "  </thead>\n",
              "  <tbody>\n",
              "    <tr>\n",
              "      <th>0</th>\n",
              "      <td>7Horse_-_Answer_the_Bell.mp3</td>\n",
              "      <td>rock</td>\n",
              "      <td>blues rock</td>\n",
              "      <td>blues</td>\n",
              "      <td>unknown</td>\n",
              "      <td>0.471305</td>\n",
              "      <td>0.319938</td>\n",
              "      <td>1860.309881</td>\n",
              "      <td>2254.449006</td>\n",
              "      <td>4242.016016</td>\n",
              "      <td>0.059129</td>\n",
              "      <td>-23.744074</td>\n",
              "      <td>107.768021</td>\n",
              "      <td>0.705893</td>\n",
              "      <td>44.126892</td>\n",
              "      <td>2.450167</td>\n",
              "      <td>13.959824</td>\n",
              "      <td>-2.741955</td>\n",
              "      <td>13.074828</td>\n",
              "      <td>-1.435308</td>\n",
              "      <td>0.578150</td>\n",
              "      <td>2.607480</td>\n",
              "      <td>8.955308</td>\n",
              "      <td>0.447658</td>\n",
              "      <td>2.813950</td>\n",
              "      <td>0.683013</td>\n",
              "      <td>5.262069</td>\n",
              "      <td>-4.268339</td>\n",
              "      <td>5.835894</td>\n",
              "      <td>-3.354534</td>\n",
              "      <td>1.056222</td>\n",
              "      <td>NaN</td>\n",
              "    </tr>\n",
              "    <tr>\n",
              "      <th>1</th>\n",
              "      <td>A_Simple_Life-Brian_Crain.mp3</td>\n",
              "      <td>classic</td>\n",
              "      <td>neo-classic</td>\n",
              "      <td>new age piano</td>\n",
              "      <td>unknown</td>\n",
              "      <td>0.198131</td>\n",
              "      <td>0.031942</td>\n",
              "      <td>1120.163312</td>\n",
              "      <td>1258.178395</td>\n",
              "      <td>1766.280986</td>\n",
              "      <td>0.076997</td>\n",
              "      <td>-378.191803</td>\n",
              "      <td>158.049606</td>\n",
              "      <td>-12.159947</td>\n",
              "      <td>-0.245925</td>\n",
              "      <td>1.073428</td>\n",
              "      <td>-3.667623</td>\n",
              "      <td>-9.547797</td>\n",
              "      <td>-15.990136</td>\n",
              "      <td>-17.851130</td>\n",
              "      <td>-5.642962</td>\n",
              "      <td>-4.773774</td>\n",
              "      <td>-10.394959</td>\n",
              "      <td>-8.264109</td>\n",
              "      <td>3.224174</td>\n",
              "      <td>6.191852</td>\n",
              "      <td>0.026725</td>\n",
              "      <td>-8.696564</td>\n",
              "      <td>-7.645648</td>\n",
              "      <td>-0.248223</td>\n",
              "      <td>-4.363388</td>\n",
              "      <td>NaN</td>\n",
              "    </tr>\n",
              "    <tr>\n",
              "      <th>2</th>\n",
              "      <td>Adagio_in_G_Minor-Albinoni.mp3</td>\n",
              "      <td>classic</td>\n",
              "      <td>instrumental</td>\n",
              "      <td>unknown</td>\n",
              "      <td>unknown</td>\n",
              "      <td>0.296817</td>\n",
              "      <td>0.023875</td>\n",
              "      <td>778.658869</td>\n",
              "      <td>1176.596670</td>\n",
              "      <td>1249.834109</td>\n",
              "      <td>0.043065</td>\n",
              "      <td>-406.446533</td>\n",
              "      <td>163.899689</td>\n",
              "      <td>31.604647</td>\n",
              "      <td>24.882523</td>\n",
              "      <td>15.976170</td>\n",
              "      <td>5.303088</td>\n",
              "      <td>-14.669940</td>\n",
              "      <td>-11.307670</td>\n",
              "      <td>4.560072</td>\n",
              "      <td>8.207348</td>\n",
              "      <td>-3.151361</td>\n",
              "      <td>-10.424700</td>\n",
              "      <td>-13.281364</td>\n",
              "      <td>-3.239272</td>\n",
              "      <td>0.330685</td>\n",
              "      <td>2.051858</td>\n",
              "      <td>2.346986</td>\n",
              "      <td>3.684479</td>\n",
              "      <td>6.620385</td>\n",
              "      <td>1.746256</td>\n",
              "      <td>NaN</td>\n",
              "    </tr>\n",
              "    <tr>\n",
              "      <th>3</th>\n",
              "      <td>Age_Atomic-Solar_Bears.mp3</td>\n",
              "      <td>electronica</td>\n",
              "      <td>synthwave</td>\n",
              "      <td>unknown</td>\n",
              "      <td>unknown</td>\n",
              "      <td>0.465003</td>\n",
              "      <td>0.125709</td>\n",
              "      <td>1203.130772</td>\n",
              "      <td>1571.629642</td>\n",
              "      <td>2430.510303</td>\n",
              "      <td>0.037358</td>\n",
              "      <td>-229.313522</td>\n",
              "      <td>134.605347</td>\n",
              "      <td>0.550017</td>\n",
              "      <td>38.055122</td>\n",
              "      <td>12.800261</td>\n",
              "      <td>16.987812</td>\n",
              "      <td>6.436337</td>\n",
              "      <td>7.508077</td>\n",
              "      <td>3.337813</td>\n",
              "      <td>7.238113</td>\n",
              "      <td>1.483276</td>\n",
              "      <td>3.390823</td>\n",
              "      <td>1.853302</td>\n",
              "      <td>1.423907</td>\n",
              "      <td>-0.764668</td>\n",
              "      <td>-0.405367</td>\n",
              "      <td>-0.564020</td>\n",
              "      <td>1.760836</td>\n",
              "      <td>-1.767216</td>\n",
              "      <td>-3.007978</td>\n",
              "      <td>NaN</td>\n",
              "    </tr>\n",
              "    <tr>\n",
              "      <th>4</th>\n",
              "      <td>Alakazam_!-Justice.mp3</td>\n",
              "      <td>electronica</td>\n",
              "      <td>disco</td>\n",
              "      <td>unknown</td>\n",
              "      <td>unknown</td>\n",
              "      <td>0.519087</td>\n",
              "      <td>0.137027</td>\n",
              "      <td>4691.560922</td>\n",
              "      <td>3265.128319</td>\n",
              "      <td>8623.339523</td>\n",
              "      <td>0.322507</td>\n",
              "      <td>-94.957077</td>\n",
              "      <td>15.633355</td>\n",
              "      <td>17.379278</td>\n",
              "      <td>9.183320</td>\n",
              "      <td>11.982101</td>\n",
              "      <td>12.071534</td>\n",
              "      <td>-7.759117</td>\n",
              "      <td>3.040752</td>\n",
              "      <td>-6.754209</td>\n",
              "      <td>0.802771</td>\n",
              "      <td>-2.248677</td>\n",
              "      <td>9.931625</td>\n",
              "      <td>-1.633170</td>\n",
              "      <td>3.474230</td>\n",
              "      <td>-5.988054</td>\n",
              "      <td>5.523672</td>\n",
              "      <td>2.197058</td>\n",
              "      <td>2.507752</td>\n",
              "      <td>-3.283781</td>\n",
              "      <td>2.584341</td>\n",
              "      <td>NaN</td>\n",
              "    </tr>\n",
              "  </tbody>\n",
              "</table>\n",
              "</div>"
            ],
            "text/plain": [
              "                             song coarse_genre  ...    mfcc20 label\n",
              "0    7Horse_-_Answer_the_Bell.mp3         rock  ...  1.056222   NaN\n",
              "1   A_Simple_Life-Brian_Crain.mp3      classic  ... -4.363388   NaN\n",
              "2  Adagio_in_G_Minor-Albinoni.mp3      classic  ...  1.746256   NaN\n",
              "3      Age_Atomic-Solar_Bears.mp3  electronica  ... -3.007978   NaN\n",
              "4          Alakazam_!-Justice.mp3  electronica  ...  2.584341   NaN\n",
              "\n",
              "[5 rows x 32 columns]"
            ]
          },
          "metadata": {
            "tags": []
          },
          "execution_count": 66
        }
      ]
    },
    {
      "cell_type": "markdown",
      "metadata": {
        "id": "7N7XKSEfxPuc"
      },
      "source": [
        "### Preparing dataframe\n",
        "\n",
        "We united different genres and calculated the frequency of their occurrence. To improve the accuracy of the prediction of our model and to facilitate the analysis of the results, we decided to leave only genres that occur more often 35 times in the original dataset.\n",
        "\n",
        "So we've got 6 most common genres."
      ]
    },
    {
      "cell_type": "code",
      "metadata": {
        "colab": {
          "base_uri": "https://localhost:8080/",
          "height": 524
        },
        "id": "Ue84efb0BT8f",
        "outputId": "d882ac7f-6a07-4d86-cd68-5d3b3add381c"
      },
      "source": [
        "def multi_lab_prepare(file_path):\n",
        "  final_subgenres = []\n",
        "  with open(file_path) as file:\n",
        "    full_gen_list = []\n",
        "    subgenres = []\n",
        "    file.readline()\n",
        "    for line in file:\n",
        "      genres = line.split(',')[1:5]\n",
        "      sub_gen = list(set(genres) - {\"unknown\"})\n",
        "      subgenres.append(sub_gen)\n",
        "      for gen in sub_gen:\n",
        "        full_gen_list.append(gen)\n",
        "    #print(subgenres)\n",
        "    counted = Counter(full_gen_list)\n",
        "    gen_to_stay = []\n",
        "    for key in counted:\n",
        "      if counted[key] > 35:\n",
        "        gen_to_stay.append(key)\n",
        "    #print(gen_to_stay)\n",
        "    for sample_subgen in subgenres:\n",
        "      sample_subgen_new = list(set(gen_to_stay) & set(sample_subgen))\n",
        "      if len(sample_subgen_new) == 0:\n",
        "        sample_subgen_new.append(\"NA\")\n",
        "      final_subgenres.append(set(sample_subgen_new))\n",
        "    print(gen_to_stay)\n",
        "  return final_subgenres\n",
        "\n",
        "#multi_lab_prepare(\"/content/drive/MyDrive/multi_label_music - Лист1.csv\")\n",
        "multi_lab[\"multi_gen\"] = multi_lab_prepare(\"multi_label_music - Лист1.csv\")\n",
        "multi_lab"
      ],
      "execution_count": 67,
      "outputs": [
        {
          "output_type": "stream",
          "text": [
            "['rock', 'electronica', 'pop', 'hip-hop', 'metal', 'alternative']\n"
          ],
          "name": "stdout"
        },
        {
          "output_type": "execute_result",
          "data": {
            "text/html": [
              "<div>\n",
              "<style scoped>\n",
              "    .dataframe tbody tr th:only-of-type {\n",
              "        vertical-align: middle;\n",
              "    }\n",
              "\n",
              "    .dataframe tbody tr th {\n",
              "        vertical-align: top;\n",
              "    }\n",
              "\n",
              "    .dataframe thead th {\n",
              "        text-align: right;\n",
              "    }\n",
              "</style>\n",
              "<table border=\"1\" class=\"dataframe\">\n",
              "  <thead>\n",
              "    <tr style=\"text-align: right;\">\n",
              "      <th></th>\n",
              "      <th>song</th>\n",
              "      <th>coarse_genre</th>\n",
              "      <th>genre1</th>\n",
              "      <th>genre2</th>\n",
              "      <th>genre3</th>\n",
              "      <th>chroma_stft</th>\n",
              "      <th>rms</th>\n",
              "      <th>spectral_centroid</th>\n",
              "      <th>spectral_bandwidth</th>\n",
              "      <th>rolloff</th>\n",
              "      <th>zero_crossing_rate</th>\n",
              "      <th>mfcc1</th>\n",
              "      <th>mfcc2</th>\n",
              "      <th>mfcc3</th>\n",
              "      <th>mfcc4</th>\n",
              "      <th>mfcc5</th>\n",
              "      <th>mfcc6</th>\n",
              "      <th>mfcc7</th>\n",
              "      <th>mfcc8</th>\n",
              "      <th>mfcc9</th>\n",
              "      <th>mfcc10</th>\n",
              "      <th>mfcc11</th>\n",
              "      <th>mfcc12</th>\n",
              "      <th>mfcc13</th>\n",
              "      <th>mfcc14</th>\n",
              "      <th>mfcc15</th>\n",
              "      <th>mfcc16</th>\n",
              "      <th>mfcc17</th>\n",
              "      <th>mfcc18</th>\n",
              "      <th>mfcc19</th>\n",
              "      <th>mfcc20</th>\n",
              "      <th>label</th>\n",
              "      <th>multi_gen</th>\n",
              "    </tr>\n",
              "  </thead>\n",
              "  <tbody>\n",
              "    <tr>\n",
              "      <th>0</th>\n",
              "      <td>7Horse_-_Answer_the_Bell.mp3</td>\n",
              "      <td>rock</td>\n",
              "      <td>blues rock</td>\n",
              "      <td>blues</td>\n",
              "      <td>unknown</td>\n",
              "      <td>0.471305</td>\n",
              "      <td>0.319938</td>\n",
              "      <td>1860.309881</td>\n",
              "      <td>2254.449006</td>\n",
              "      <td>4242.016016</td>\n",
              "      <td>0.059129</td>\n",
              "      <td>-23.744074</td>\n",
              "      <td>107.768021</td>\n",
              "      <td>0.705893</td>\n",
              "      <td>44.126892</td>\n",
              "      <td>2.450167</td>\n",
              "      <td>13.959824</td>\n",
              "      <td>-2.741955</td>\n",
              "      <td>13.074828</td>\n",
              "      <td>-1.435308</td>\n",
              "      <td>0.578150</td>\n",
              "      <td>2.607480</td>\n",
              "      <td>8.955308</td>\n",
              "      <td>0.447658</td>\n",
              "      <td>2.813950</td>\n",
              "      <td>0.683013</td>\n",
              "      <td>5.262069</td>\n",
              "      <td>-4.268339</td>\n",
              "      <td>5.835894</td>\n",
              "      <td>-3.354534</td>\n",
              "      <td>1.056222</td>\n",
              "      <td>NaN</td>\n",
              "      <td>{rock}</td>\n",
              "    </tr>\n",
              "    <tr>\n",
              "      <th>1</th>\n",
              "      <td>A_Simple_Life-Brian_Crain.mp3</td>\n",
              "      <td>classic</td>\n",
              "      <td>neo-classic</td>\n",
              "      <td>new age piano</td>\n",
              "      <td>unknown</td>\n",
              "      <td>0.198131</td>\n",
              "      <td>0.031942</td>\n",
              "      <td>1120.163312</td>\n",
              "      <td>1258.178395</td>\n",
              "      <td>1766.280986</td>\n",
              "      <td>0.076997</td>\n",
              "      <td>-378.191803</td>\n",
              "      <td>158.049606</td>\n",
              "      <td>-12.159947</td>\n",
              "      <td>-0.245925</td>\n",
              "      <td>1.073428</td>\n",
              "      <td>-3.667623</td>\n",
              "      <td>-9.547797</td>\n",
              "      <td>-15.990136</td>\n",
              "      <td>-17.851130</td>\n",
              "      <td>-5.642962</td>\n",
              "      <td>-4.773774</td>\n",
              "      <td>-10.394959</td>\n",
              "      <td>-8.264109</td>\n",
              "      <td>3.224174</td>\n",
              "      <td>6.191852</td>\n",
              "      <td>0.026725</td>\n",
              "      <td>-8.696564</td>\n",
              "      <td>-7.645648</td>\n",
              "      <td>-0.248223</td>\n",
              "      <td>-4.363388</td>\n",
              "      <td>NaN</td>\n",
              "      <td>{NA}</td>\n",
              "    </tr>\n",
              "    <tr>\n",
              "      <th>2</th>\n",
              "      <td>Adagio_in_G_Minor-Albinoni.mp3</td>\n",
              "      <td>classic</td>\n",
              "      <td>instrumental</td>\n",
              "      <td>unknown</td>\n",
              "      <td>unknown</td>\n",
              "      <td>0.296817</td>\n",
              "      <td>0.023875</td>\n",
              "      <td>778.658869</td>\n",
              "      <td>1176.596670</td>\n",
              "      <td>1249.834109</td>\n",
              "      <td>0.043065</td>\n",
              "      <td>-406.446533</td>\n",
              "      <td>163.899689</td>\n",
              "      <td>31.604647</td>\n",
              "      <td>24.882523</td>\n",
              "      <td>15.976170</td>\n",
              "      <td>5.303088</td>\n",
              "      <td>-14.669940</td>\n",
              "      <td>-11.307670</td>\n",
              "      <td>4.560072</td>\n",
              "      <td>8.207348</td>\n",
              "      <td>-3.151361</td>\n",
              "      <td>-10.424700</td>\n",
              "      <td>-13.281364</td>\n",
              "      <td>-3.239272</td>\n",
              "      <td>0.330685</td>\n",
              "      <td>2.051858</td>\n",
              "      <td>2.346986</td>\n",
              "      <td>3.684479</td>\n",
              "      <td>6.620385</td>\n",
              "      <td>1.746256</td>\n",
              "      <td>NaN</td>\n",
              "      <td>{NA}</td>\n",
              "    </tr>\n",
              "    <tr>\n",
              "      <th>3</th>\n",
              "      <td>Age_Atomic-Solar_Bears.mp3</td>\n",
              "      <td>electronica</td>\n",
              "      <td>synthwave</td>\n",
              "      <td>unknown</td>\n",
              "      <td>unknown</td>\n",
              "      <td>0.465003</td>\n",
              "      <td>0.125709</td>\n",
              "      <td>1203.130772</td>\n",
              "      <td>1571.629642</td>\n",
              "      <td>2430.510303</td>\n",
              "      <td>0.037358</td>\n",
              "      <td>-229.313522</td>\n",
              "      <td>134.605347</td>\n",
              "      <td>0.550017</td>\n",
              "      <td>38.055122</td>\n",
              "      <td>12.800261</td>\n",
              "      <td>16.987812</td>\n",
              "      <td>6.436337</td>\n",
              "      <td>7.508077</td>\n",
              "      <td>3.337813</td>\n",
              "      <td>7.238113</td>\n",
              "      <td>1.483276</td>\n",
              "      <td>3.390823</td>\n",
              "      <td>1.853302</td>\n",
              "      <td>1.423907</td>\n",
              "      <td>-0.764668</td>\n",
              "      <td>-0.405367</td>\n",
              "      <td>-0.564020</td>\n",
              "      <td>1.760836</td>\n",
              "      <td>-1.767216</td>\n",
              "      <td>-3.007978</td>\n",
              "      <td>NaN</td>\n",
              "      <td>{electronica}</td>\n",
              "    </tr>\n",
              "    <tr>\n",
              "      <th>4</th>\n",
              "      <td>Alakazam_!-Justice.mp3</td>\n",
              "      <td>electronica</td>\n",
              "      <td>disco</td>\n",
              "      <td>unknown</td>\n",
              "      <td>unknown</td>\n",
              "      <td>0.519087</td>\n",
              "      <td>0.137027</td>\n",
              "      <td>4691.560922</td>\n",
              "      <td>3265.128319</td>\n",
              "      <td>8623.339523</td>\n",
              "      <td>0.322507</td>\n",
              "      <td>-94.957077</td>\n",
              "      <td>15.633355</td>\n",
              "      <td>17.379278</td>\n",
              "      <td>9.183320</td>\n",
              "      <td>11.982101</td>\n",
              "      <td>12.071534</td>\n",
              "      <td>-7.759117</td>\n",
              "      <td>3.040752</td>\n",
              "      <td>-6.754209</td>\n",
              "      <td>0.802771</td>\n",
              "      <td>-2.248677</td>\n",
              "      <td>9.931625</td>\n",
              "      <td>-1.633170</td>\n",
              "      <td>3.474230</td>\n",
              "      <td>-5.988054</td>\n",
              "      <td>5.523672</td>\n",
              "      <td>2.197058</td>\n",
              "      <td>2.507752</td>\n",
              "      <td>-3.283781</td>\n",
              "      <td>2.584341</td>\n",
              "      <td>NaN</td>\n",
              "      <td>{electronica}</td>\n",
              "    </tr>\n",
              "    <tr>\n",
              "      <th>...</th>\n",
              "      <td>...</td>\n",
              "      <td>...</td>\n",
              "      <td>...</td>\n",
              "      <td>...</td>\n",
              "      <td>...</td>\n",
              "      <td>...</td>\n",
              "      <td>...</td>\n",
              "      <td>...</td>\n",
              "      <td>...</td>\n",
              "      <td>...</td>\n",
              "      <td>...</td>\n",
              "      <td>...</td>\n",
              "      <td>...</td>\n",
              "      <td>...</td>\n",
              "      <td>...</td>\n",
              "      <td>...</td>\n",
              "      <td>...</td>\n",
              "      <td>...</td>\n",
              "      <td>...</td>\n",
              "      <td>...</td>\n",
              "      <td>...</td>\n",
              "      <td>...</td>\n",
              "      <td>...</td>\n",
              "      <td>...</td>\n",
              "      <td>...</td>\n",
              "      <td>...</td>\n",
              "      <td>...</td>\n",
              "      <td>...</td>\n",
              "      <td>...</td>\n",
              "      <td>...</td>\n",
              "      <td>...</td>\n",
              "      <td>...</td>\n",
              "      <td>...</td>\n",
              "    </tr>\n",
              "    <tr>\n",
              "      <th>315</th>\n",
              "      <td>Электрослабость-Терентий.mp3</td>\n",
              "      <td>rock</td>\n",
              "      <td>rock</td>\n",
              "      <td>unknown</td>\n",
              "      <td>unknown</td>\n",
              "      <td>0.305536</td>\n",
              "      <td>0.085761</td>\n",
              "      <td>1774.842664</td>\n",
              "      <td>1615.029550</td>\n",
              "      <td>3295.796737</td>\n",
              "      <td>0.103189</td>\n",
              "      <td>-196.938995</td>\n",
              "      <td>107.890312</td>\n",
              "      <td>-49.504559</td>\n",
              "      <td>23.256870</td>\n",
              "      <td>-7.766943</td>\n",
              "      <td>-10.828805</td>\n",
              "      <td>-9.426894</td>\n",
              "      <td>-9.968717</td>\n",
              "      <td>-9.582357</td>\n",
              "      <td>-6.084743</td>\n",
              "      <td>-8.271982</td>\n",
              "      <td>-5.104860</td>\n",
              "      <td>-9.626559</td>\n",
              "      <td>-8.849612</td>\n",
              "      <td>-6.099184</td>\n",
              "      <td>-4.341605</td>\n",
              "      <td>-7.439850</td>\n",
              "      <td>0.642773</td>\n",
              "      <td>-1.910036</td>\n",
              "      <td>-0.943689</td>\n",
              "      <td>NaN</td>\n",
              "      <td>{rock}</td>\n",
              "    </tr>\n",
              "    <tr>\n",
              "      <th>316</th>\n",
              "      <td>Я_говорю_тебе_да-Зоя_Ященко_и_группа_Белая_Гва...</td>\n",
              "      <td>art_song</td>\n",
              "      <td>indie_rock</td>\n",
              "      <td>indie</td>\n",
              "      <td>rock</td>\n",
              "      <td>0.309073</td>\n",
              "      <td>0.113429</td>\n",
              "      <td>1486.149625</td>\n",
              "      <td>2075.468307</td>\n",
              "      <td>3159.497562</td>\n",
              "      <td>0.053756</td>\n",
              "      <td>-225.169983</td>\n",
              "      <td>112.705711</td>\n",
              "      <td>18.469475</td>\n",
              "      <td>36.379906</td>\n",
              "      <td>14.931026</td>\n",
              "      <td>11.501737</td>\n",
              "      <td>12.913817</td>\n",
              "      <td>4.283488</td>\n",
              "      <td>-4.320745</td>\n",
              "      <td>-0.780779</td>\n",
              "      <td>-6.414469</td>\n",
              "      <td>-0.155902</td>\n",
              "      <td>0.307335</td>\n",
              "      <td>3.229309</td>\n",
              "      <td>-7.142956</td>\n",
              "      <td>-6.877095</td>\n",
              "      <td>-8.012037</td>\n",
              "      <td>-2.268814</td>\n",
              "      <td>-6.735100</td>\n",
              "      <td>0.482745</td>\n",
              "      <td>NaN</td>\n",
              "      <td>{rock}</td>\n",
              "    </tr>\n",
              "    <tr>\n",
              "      <th>317</th>\n",
              "      <td>Я_не_один-Эм_Калинин.mp3</td>\n",
              "      <td>indie</td>\n",
              "      <td>hip-hop</td>\n",
              "      <td>unknown</td>\n",
              "      <td>unknown</td>\n",
              "      <td>0.222395</td>\n",
              "      <td>0.097399</td>\n",
              "      <td>1288.625072</td>\n",
              "      <td>1891.525926</td>\n",
              "      <td>2456.901810</td>\n",
              "      <td>0.045959</td>\n",
              "      <td>-314.401276</td>\n",
              "      <td>93.073105</td>\n",
              "      <td>30.639019</td>\n",
              "      <td>31.729876</td>\n",
              "      <td>17.475866</td>\n",
              "      <td>10.264308</td>\n",
              "      <td>-0.042682</td>\n",
              "      <td>-2.059678</td>\n",
              "      <td>-8.117323</td>\n",
              "      <td>-5.908817</td>\n",
              "      <td>-10.093952</td>\n",
              "      <td>-1.629037</td>\n",
              "      <td>-2.808756</td>\n",
              "      <td>-3.255831</td>\n",
              "      <td>3.946434</td>\n",
              "      <td>3.982924</td>\n",
              "      <td>0.635545</td>\n",
              "      <td>6.337476</td>\n",
              "      <td>-4.443654</td>\n",
              "      <td>-7.976905</td>\n",
              "      <td>NaN</td>\n",
              "      <td>{hip-hop}</td>\n",
              "    </tr>\n",
              "    <tr>\n",
              "      <th>318</th>\n",
              "      <td>Я_так_соскучился-Порнофильмы.mp3</td>\n",
              "      <td>rock</td>\n",
              "      <td>folk_rock</td>\n",
              "      <td>folk</td>\n",
              "      <td>unknown</td>\n",
              "      <td>0.522332</td>\n",
              "      <td>0.245946</td>\n",
              "      <td>3141.918654</td>\n",
              "      <td>2706.096095</td>\n",
              "      <td>6383.819731</td>\n",
              "      <td>0.158867</td>\n",
              "      <td>0.471008</td>\n",
              "      <td>52.295666</td>\n",
              "      <td>-6.165322</td>\n",
              "      <td>42.967606</td>\n",
              "      <td>5.009264</td>\n",
              "      <td>8.015827</td>\n",
              "      <td>0.168900</td>\n",
              "      <td>14.917789</td>\n",
              "      <td>-2.575461</td>\n",
              "      <td>8.168189</td>\n",
              "      <td>-7.770843</td>\n",
              "      <td>5.847922</td>\n",
              "      <td>-0.786887</td>\n",
              "      <td>-0.570655</td>\n",
              "      <td>-7.329313</td>\n",
              "      <td>-0.215434</td>\n",
              "      <td>-7.190438</td>\n",
              "      <td>2.377817</td>\n",
              "      <td>-5.955860</td>\n",
              "      <td>2.240076</td>\n",
              "      <td>NaN</td>\n",
              "      <td>{rock}</td>\n",
              "    </tr>\n",
              "    <tr>\n",
              "      <th>319</th>\n",
              "      <td>Я_убью_себя-Слава_КПСС.mp3</td>\n",
              "      <td>hip-hop</td>\n",
              "      <td>pop</td>\n",
              "      <td>dance</td>\n",
              "      <td>unknown</td>\n",
              "      <td>0.422160</td>\n",
              "      <td>0.253317</td>\n",
              "      <td>2409.656876</td>\n",
              "      <td>2331.750616</td>\n",
              "      <td>4893.028746</td>\n",
              "      <td>0.114690</td>\n",
              "      <td>-16.969154</td>\n",
              "      <td>91.023048</td>\n",
              "      <td>-25.775446</td>\n",
              "      <td>19.912825</td>\n",
              "      <td>-2.607369</td>\n",
              "      <td>7.248294</td>\n",
              "      <td>-6.963012</td>\n",
              "      <td>1.603032</td>\n",
              "      <td>-7.321396</td>\n",
              "      <td>-1.007274</td>\n",
              "      <td>-5.632713</td>\n",
              "      <td>2.521798</td>\n",
              "      <td>-3.733055</td>\n",
              "      <td>-4.629391</td>\n",
              "      <td>-7.126958</td>\n",
              "      <td>0.399954</td>\n",
              "      <td>-6.890591</td>\n",
              "      <td>-3.945478</td>\n",
              "      <td>-3.842645</td>\n",
              "      <td>-4.006365</td>\n",
              "      <td>NaN</td>\n",
              "      <td>{pop, hip-hop}</td>\n",
              "    </tr>\n",
              "  </tbody>\n",
              "</table>\n",
              "<p>320 rows × 33 columns</p>\n",
              "</div>"
            ],
            "text/plain": [
              "                                                  song  ...       multi_gen\n",
              "0                         7Horse_-_Answer_the_Bell.mp3  ...          {rock}\n",
              "1                        A_Simple_Life-Brian_Crain.mp3  ...            {NA}\n",
              "2                       Adagio_in_G_Minor-Albinoni.mp3  ...            {NA}\n",
              "3                           Age_Atomic-Solar_Bears.mp3  ...   {electronica}\n",
              "4                               Alakazam_!-Justice.mp3  ...   {electronica}\n",
              "..                                                 ...  ...             ...\n",
              "315                       Электрослабость-Терентий.mp3  ...          {rock}\n",
              "316  Я_говорю_тебе_да-Зоя_Ященко_и_группа_Белая_Гва...  ...          {rock}\n",
              "317                           Я_не_один-Эм_Калинин.mp3  ...       {hip-hop}\n",
              "318                   Я_так_соскучился-Порнофильмы.mp3  ...          {rock}\n",
              "319                         Я_убью_себя-Слава_КПСС.mp3  ...  {pop, hip-hop}\n",
              "\n",
              "[320 rows x 33 columns]"
            ]
          },
          "metadata": {
            "tags": []
          },
          "execution_count": 67
        }
      ]
    },
    {
      "cell_type": "markdown",
      "metadata": {
        "id": "oxs1uOix18Wt"
      },
      "source": [
        "We presented the dependent variable as a binary dataframe"
      ]
    },
    {
      "cell_type": "code",
      "metadata": {
        "colab": {
          "base_uri": "https://localhost:8080/",
          "height": 359
        },
        "id": "7OBDNQ_PBip6",
        "outputId": "9ec68346-4187-4d74-b907-c6435bc873c7"
      },
      "source": [
        "mlb = MultiLabelBinarizer()\n",
        "preproc_mtr = mlb.fit_transform(multi_lab[\"multi_gen\"])\n",
        "multilab_df = pd.DataFrame(preproc_mtr)\n",
        "colnames = list(mlb.classes_)\n",
        "multilab_df2 = multilab_df.set_axis(colnames, axis=1, inplace=False)\n",
        "multilab_df2 = multilab_df2.drop(\"NA\", 1)\n",
        "y = multilab_df2\n",
        "y.head(10)"
      ],
      "execution_count": 8,
      "outputs": [
        {
          "output_type": "execute_result",
          "data": {
            "text/html": [
              "<div>\n",
              "<style scoped>\n",
              "    .dataframe tbody tr th:only-of-type {\n",
              "        vertical-align: middle;\n",
              "    }\n",
              "\n",
              "    .dataframe tbody tr th {\n",
              "        vertical-align: top;\n",
              "    }\n",
              "\n",
              "    .dataframe thead th {\n",
              "        text-align: right;\n",
              "    }\n",
              "</style>\n",
              "<table border=\"1\" class=\"dataframe\">\n",
              "  <thead>\n",
              "    <tr style=\"text-align: right;\">\n",
              "      <th></th>\n",
              "      <th>alternative</th>\n",
              "      <th>electronica</th>\n",
              "      <th>hip-hop</th>\n",
              "      <th>metal</th>\n",
              "      <th>pop</th>\n",
              "      <th>rock</th>\n",
              "    </tr>\n",
              "  </thead>\n",
              "  <tbody>\n",
              "    <tr>\n",
              "      <th>0</th>\n",
              "      <td>0</td>\n",
              "      <td>0</td>\n",
              "      <td>0</td>\n",
              "      <td>0</td>\n",
              "      <td>0</td>\n",
              "      <td>1</td>\n",
              "    </tr>\n",
              "    <tr>\n",
              "      <th>1</th>\n",
              "      <td>0</td>\n",
              "      <td>0</td>\n",
              "      <td>0</td>\n",
              "      <td>0</td>\n",
              "      <td>0</td>\n",
              "      <td>0</td>\n",
              "    </tr>\n",
              "    <tr>\n",
              "      <th>2</th>\n",
              "      <td>0</td>\n",
              "      <td>0</td>\n",
              "      <td>0</td>\n",
              "      <td>0</td>\n",
              "      <td>0</td>\n",
              "      <td>0</td>\n",
              "    </tr>\n",
              "    <tr>\n",
              "      <th>3</th>\n",
              "      <td>0</td>\n",
              "      <td>1</td>\n",
              "      <td>0</td>\n",
              "      <td>0</td>\n",
              "      <td>0</td>\n",
              "      <td>0</td>\n",
              "    </tr>\n",
              "    <tr>\n",
              "      <th>4</th>\n",
              "      <td>0</td>\n",
              "      <td>1</td>\n",
              "      <td>0</td>\n",
              "      <td>0</td>\n",
              "      <td>0</td>\n",
              "      <td>0</td>\n",
              "    </tr>\n",
              "    <tr>\n",
              "      <th>5</th>\n",
              "      <td>0</td>\n",
              "      <td>1</td>\n",
              "      <td>0</td>\n",
              "      <td>0</td>\n",
              "      <td>0</td>\n",
              "      <td>0</td>\n",
              "    </tr>\n",
              "    <tr>\n",
              "      <th>6</th>\n",
              "      <td>0</td>\n",
              "      <td>1</td>\n",
              "      <td>0</td>\n",
              "      <td>0</td>\n",
              "      <td>0</td>\n",
              "      <td>0</td>\n",
              "    </tr>\n",
              "    <tr>\n",
              "      <th>7</th>\n",
              "      <td>0</td>\n",
              "      <td>0</td>\n",
              "      <td>0</td>\n",
              "      <td>0</td>\n",
              "      <td>0</td>\n",
              "      <td>0</td>\n",
              "    </tr>\n",
              "    <tr>\n",
              "      <th>8</th>\n",
              "      <td>0</td>\n",
              "      <td>0</td>\n",
              "      <td>0</td>\n",
              "      <td>0</td>\n",
              "      <td>0</td>\n",
              "      <td>0</td>\n",
              "    </tr>\n",
              "    <tr>\n",
              "      <th>9</th>\n",
              "      <td>0</td>\n",
              "      <td>0</td>\n",
              "      <td>1</td>\n",
              "      <td>0</td>\n",
              "      <td>1</td>\n",
              "      <td>0</td>\n",
              "    </tr>\n",
              "  </tbody>\n",
              "</table>\n",
              "</div>"
            ],
            "text/plain": [
              "   alternative  electronica  hip-hop  metal  pop  rock\n",
              "0            0            0        0      0    0     1\n",
              "1            0            0        0      0    0     0\n",
              "2            0            0        0      0    0     0\n",
              "3            0            1        0      0    0     0\n",
              "4            0            1        0      0    0     0\n",
              "5            0            1        0      0    0     0\n",
              "6            0            1        0      0    0     0\n",
              "7            0            0        0      0    0     0\n",
              "8            0            0        0      0    0     0\n",
              "9            0            0        1      0    1     0"
            ]
          },
          "metadata": {
            "tags": []
          },
          "execution_count": 8
        }
      ]
    },
    {
      "cell_type": "code",
      "metadata": {
        "id": "PXSApgJ6Biz8"
      },
      "source": [
        "multi_lab = multi_lab.drop([\"song\", \"genre1\", \"genre2\", \"genre3\", \"label\", \"multi_gen\"], axis=1)\n",
        "X = multi_lab.drop(['coarse_genre'], axis=1)"
      ],
      "execution_count": 9,
      "outputs": []
    },
    {
      "cell_type": "code",
      "metadata": {
        "colab": {
          "base_uri": "https://localhost:8080/",
          "height": 204
        },
        "id": "gRazIWfV1pLL",
        "outputId": "d822307c-dc2e-42b2-fadb-a647d9df8219"
      },
      "source": [
        "y2 = y.loc[~(y==0).all(axis=1)]\n",
        "X2 = multi_lab.drop(['coarse_genre'], axis=1)\n",
        "X2 = X.loc[~(y==0).all(axis=1)]\n",
        "y2.head()"
      ],
      "execution_count": 10,
      "outputs": [
        {
          "output_type": "execute_result",
          "data": {
            "text/html": [
              "<div>\n",
              "<style scoped>\n",
              "    .dataframe tbody tr th:only-of-type {\n",
              "        vertical-align: middle;\n",
              "    }\n",
              "\n",
              "    .dataframe tbody tr th {\n",
              "        vertical-align: top;\n",
              "    }\n",
              "\n",
              "    .dataframe thead th {\n",
              "        text-align: right;\n",
              "    }\n",
              "</style>\n",
              "<table border=\"1\" class=\"dataframe\">\n",
              "  <thead>\n",
              "    <tr style=\"text-align: right;\">\n",
              "      <th></th>\n",
              "      <th>alternative</th>\n",
              "      <th>electronica</th>\n",
              "      <th>hip-hop</th>\n",
              "      <th>metal</th>\n",
              "      <th>pop</th>\n",
              "      <th>rock</th>\n",
              "    </tr>\n",
              "  </thead>\n",
              "  <tbody>\n",
              "    <tr>\n",
              "      <th>0</th>\n",
              "      <td>0</td>\n",
              "      <td>0</td>\n",
              "      <td>0</td>\n",
              "      <td>0</td>\n",
              "      <td>0</td>\n",
              "      <td>1</td>\n",
              "    </tr>\n",
              "    <tr>\n",
              "      <th>3</th>\n",
              "      <td>0</td>\n",
              "      <td>1</td>\n",
              "      <td>0</td>\n",
              "      <td>0</td>\n",
              "      <td>0</td>\n",
              "      <td>0</td>\n",
              "    </tr>\n",
              "    <tr>\n",
              "      <th>4</th>\n",
              "      <td>0</td>\n",
              "      <td>1</td>\n",
              "      <td>0</td>\n",
              "      <td>0</td>\n",
              "      <td>0</td>\n",
              "      <td>0</td>\n",
              "    </tr>\n",
              "    <tr>\n",
              "      <th>5</th>\n",
              "      <td>0</td>\n",
              "      <td>1</td>\n",
              "      <td>0</td>\n",
              "      <td>0</td>\n",
              "      <td>0</td>\n",
              "      <td>0</td>\n",
              "    </tr>\n",
              "    <tr>\n",
              "      <th>6</th>\n",
              "      <td>0</td>\n",
              "      <td>1</td>\n",
              "      <td>0</td>\n",
              "      <td>0</td>\n",
              "      <td>0</td>\n",
              "      <td>0</td>\n",
              "    </tr>\n",
              "  </tbody>\n",
              "</table>\n",
              "</div>"
            ],
            "text/plain": [
              "   alternative  electronica  hip-hop  metal  pop  rock\n",
              "0            0            0        0      0    0     1\n",
              "3            0            1        0      0    0     0\n",
              "4            0            1        0      0    0     0\n",
              "5            0            1        0      0    0     0\n",
              "6            0            1        0      0    0     0"
            ]
          },
          "metadata": {
            "tags": []
          },
          "execution_count": 10
        }
      ]
    },
    {
      "cell_type": "markdown",
      "metadata": {
        "id": "4oSKPfJcBmYz"
      },
      "source": [
        "### Applications of different models \n",
        "\n",
        "Binary relevance with support vector classifier:"
      ]
    },
    {
      "cell_type": "code",
      "metadata": {
        "id": "6RztCvCbiYUS"
      },
      "source": [
        "hl_metrics = {}"
      ],
      "execution_count": 42,
      "outputs": []
    },
    {
      "cell_type": "code",
      "metadata": {
        "colab": {
          "base_uri": "https://localhost:8080/"
        },
        "id": "hLPznNr4U6W6",
        "outputId": "23cb889c-e122-489b-d6e1-de181fa353d5"
      },
      "source": [
        "# Classification using scitlearn\n",
        "clf = BinaryRelevance(\n",
        "    classifier=SVC()\n",
        ")\n",
        "X_train, X_test, y_train, y_test = train_test_split(X, y, test_size=0.33, random_state = 40, shuffle = True)\n",
        "clf.fit(X_train, pd.DataFrame(y_train))\n"
      ],
      "execution_count": 52,
      "outputs": [
        {
          "output_type": "execute_result",
          "data": {
            "text/plain": [
              "BinaryRelevance(classifier=SVC(C=1.0, break_ties=False, cache_size=200,\n",
              "                               class_weight=None, coef0=0.0,\n",
              "                               decision_function_shape='ovr', degree=3,\n",
              "                               gamma='scale', kernel='rbf', max_iter=-1,\n",
              "                               probability=False, random_state=None,\n",
              "                               shrinking=True, tol=0.001, verbose=False),\n",
              "                require_dense=[True, True])"
            ]
          },
          "metadata": {
            "tags": []
          },
          "execution_count": 52
        }
      ]
    },
    {
      "cell_type": "code",
      "metadata": {
        "id": "n_4EHQ0kU6Et"
      },
      "source": [
        "prediction_binrel = clf.predict(X_test)\n",
        "a = prediction.todense()"
      ],
      "execution_count": 35,
      "outputs": []
    },
    {
      "cell_type": "code",
      "metadata": {
        "colab": {
          "base_uri": "https://localhost:8080/"
        },
        "id": "T1LpuvRYWT6Y",
        "outputId": "ed3bcc50-737a-4ab9-f67f-d1a3383ee506"
      },
      "source": [
        "hl_binrel = sklearn.metrics.hamming_loss(y_test, prediction)\n",
        "hl_metrics[\"hl_binrel\"] = hl_binrel\n",
        "hl_binrel"
      ],
      "execution_count": 44,
      "outputs": [
        {
          "output_type": "execute_result",
          "data": {
            "text/plain": [
              "{'hl_binrel': 0.20911949685534592}"
            ]
          },
          "metadata": {
            "tags": []
          },
          "execution_count": 44
        }
      ]
    },
    {
      "cell_type": "markdown",
      "metadata": {
        "id": "59fHw_ZQCWGa"
      },
      "source": [
        "\n",
        "**Decision Tree Classifier**"
      ]
    },
    {
      "cell_type": "code",
      "metadata": {
        "id": "Y6_kx2S0WTI4",
        "colab": {
          "base_uri": "https://localhost:8080/"
        },
        "outputId": "379edbe5-0dee-4c33-e754-10701cb50ca5"
      },
      "source": [
        "from sklearn.metrics import classification_report\n",
        "dtree_model = DecisionTreeClassifier().fit(X_train,y_train)\n",
        "dtree_predictions = dtree_model.predict(X_test)\n",
        "\n",
        "#sklearn.metrics.classification_report(dtree_predictions, y_test)\n",
        "hl_dectree = sklearn.metrics.hamming_loss(y_test, dtree_predictions)\n",
        "hl_metrics[\"hl_dectree\"] = hl_dectree\n",
        "hl_dectree"
      ],
      "execution_count": 45,
      "outputs": [
        {
          "output_type": "execute_result",
          "data": {
            "text/plain": [
              "0.2720125786163522"
            ]
          },
          "metadata": {
            "tags": []
          },
          "execution_count": 45
        }
      ]
    },
    {
      "cell_type": "markdown",
      "metadata": {
        "id": "oIoBSGHrCd6l"
      },
      "source": [
        "**Keras sigmoid model**"
      ]
    },
    {
      "cell_type": "code",
      "metadata": {
        "id": "zKxQ8U4GIstD"
      },
      "source": [
        "# Classification using keras\n",
        "from tensorflow.keras.models import Sequential\n",
        "from tensorflow.keras.layers import Dense, Dropout, Activation\n",
        "from tensorflow.keras.optimizers import SGD\n",
        "model = Sequential()\n",
        "model.add(Dense(5000, activation='relu', input_dim=X_train.shape[1]))\n",
        "model.add(Dropout(0.1))\n",
        "model.add(Dense(600, activation='relu'))\n",
        "model.add(Dropout(0.1))\n",
        "model.add(Dense(y_train.shape[1], activation='sigmoid'))\n",
        "\n",
        "sgd = SGD(lr=0.01, decay=1e-6, momentum=0.9, nesterov=True)\n",
        "model.compile(loss='binary_crossentropy',\n",
        "              optimizer=sgd)\n",
        "\n",
        "model.fit(X_train, y_train, epochs=5, batch_size=2000)\n",
        "\n",
        "preds = model.predict(X_test)\n",
        "preds[preds>=0.5] = 1\n",
        "preds[preds<0.5] = 0\n"
      ],
      "execution_count": null,
      "outputs": []
    },
    {
      "cell_type": "code",
      "metadata": {
        "colab": {
          "base_uri": "https://localhost:8080/"
        },
        "id": "QNj7zn2PZCuo",
        "outputId": "c6eafe12-e849-470b-c20e-f1de10ea0505"
      },
      "source": [
        "hl_keras_sigm = sklearn.metrics.hamming_loss(y_test, preds)\n",
        "hl_metrics[\"hl_keras_sigm\"] = hl_keras_sigm\n",
        "hl_keras_sigm"
      ],
      "execution_count": 46,
      "outputs": [
        {
          "output_type": "execute_result",
          "data": {
            "text/plain": [
              "0.20911949685534592"
            ]
          },
          "metadata": {
            "tags": []
          },
          "execution_count": 46
        }
      ]
    },
    {
      "cell_type": "markdown",
      "metadata": {
        "id": "Q_uJ--S1gdEj"
      },
      "source": [
        "**Classifier chain**"
      ]
    },
    {
      "cell_type": "code",
      "metadata": {
        "id": "swf2SCfNb3yE"
      },
      "source": [
        "base_lr = LogisticRegression(solver='lbfgs', random_state=0)\n",
        "chain = ClassifierChain(base_lr, order='random', random_state=0)\n",
        "predict_clf_chain = chain.fit(X_train, y_train).predict(X_test)\n"
      ],
      "execution_count": null,
      "outputs": []
    },
    {
      "cell_type": "code",
      "metadata": {
        "colab": {
          "base_uri": "https://localhost:8080/"
        },
        "id": "_QTIYAxbgRwD",
        "outputId": "65cb921a-de99-4895-8d4b-a31114d266c4"
      },
      "source": [
        "hl_clf_ch_logregr = sklearn.metrics.hamming_loss(y_test, predict_clf_chain)\n",
        "hl_metrics[\"hl_clf_ch_logregr\"] = hl_clf_ch_logregr\n",
        "hl_clf_ch_logregr"
      ],
      "execution_count": 47,
      "outputs": [
        {
          "output_type": "execute_result",
          "data": {
            "text/plain": [
              "0.22012578616352202"
            ]
          },
          "metadata": {
            "tags": []
          },
          "execution_count": 47
        }
      ]
    },
    {
      "cell_type": "markdown",
      "metadata": {
        "id": "_hQL86mSjmiQ"
      },
      "source": [
        "So finally we've got the following hammin loss metrics for each model:"
      ]
    },
    {
      "cell_type": "code",
      "metadata": {
        "colab": {
          "base_uri": "https://localhost:8080/",
          "height": 80
        },
        "id": "OSLqvBLoiFg3",
        "outputId": "0fe1370d-38ea-4bd5-f93b-2152d8aaa2a5"
      },
      "source": [
        "metric_df = pd.DataFrame([hl_metrics])\n",
        "metric_df"
      ],
      "execution_count": 49,
      "outputs": [
        {
          "output_type": "execute_result",
          "data": {
            "text/html": [
              "<div>\n",
              "<style scoped>\n",
              "    .dataframe tbody tr th:only-of-type {\n",
              "        vertical-align: middle;\n",
              "    }\n",
              "\n",
              "    .dataframe tbody tr th {\n",
              "        vertical-align: top;\n",
              "    }\n",
              "\n",
              "    .dataframe thead th {\n",
              "        text-align: right;\n",
              "    }\n",
              "</style>\n",
              "<table border=\"1\" class=\"dataframe\">\n",
              "  <thead>\n",
              "    <tr style=\"text-align: right;\">\n",
              "      <th></th>\n",
              "      <th>hl_binrel</th>\n",
              "      <th>hl_dectree</th>\n",
              "      <th>hl_keras_sigm</th>\n",
              "      <th>hl_clf_ch_logregr</th>\n",
              "    </tr>\n",
              "  </thead>\n",
              "  <tbody>\n",
              "    <tr>\n",
              "      <th>0</th>\n",
              "      <td>0.209119</td>\n",
              "      <td>0.272013</td>\n",
              "      <td>0.209119</td>\n",
              "      <td>0.220126</td>\n",
              "    </tr>\n",
              "  </tbody>\n",
              "</table>\n",
              "</div>"
            ],
            "text/plain": [
              "   hl_binrel  hl_dectree  hl_keras_sigm  hl_clf_ch_logregr\n",
              "0   0.209119    0.272013       0.209119           0.220126"
            ]
          },
          "metadata": {
            "tags": []
          },
          "execution_count": 49
        }
      ]
    },
    {
      "cell_type": "markdown",
      "metadata": {
        "id": "WIhUdg4ajyYN"
      },
      "source": [
        "As we can see Decision Tree Classifier is the best. So we've visualized it's results using confusion matrix."
      ]
    },
    {
      "cell_type": "markdown",
      "metadata": {
        "id": "7WVOGy7lAR1b"
      },
      "source": [
        "### Visualization of prediction results\n",
        "\n"
      ]
    },
    {
      "cell_type": "code",
      "metadata": {
        "id": "pUsyO4K0-w_N"
      },
      "source": [
        "from sklearn.metrics import multilabel_confusion_matrix\n",
        "vis_arr = multilabel_confusion_matrix(y_test, dtree_predictions)\n",
        "labels = [\"\".join(\"c\" + str(i)) for i in range(0, 6)]\n",
        "labels = [\"alternative\",\t\"electronica\",\t\"hip-hop\",\t\"metal\",\t\"pop\"\t,\"rock\"]"
      ],
      "execution_count": 63,
      "outputs": []
    },
    {
      "cell_type": "code",
      "metadata": {
        "id": "bRPigyB59wUL"
      },
      "source": [
        "def print_confusion_matrix(confusion_matrix, axes, class_label, class_names, fontsize=14):\n",
        "\n",
        "    df_cm = pd.DataFrame(\n",
        "        confusion_matrix, index=class_names, columns=class_names,\n",
        "    )\n",
        "\n",
        "    try:\n",
        "        heatmap = sns.heatmap(df_cm, annot=True, fmt=\"d\", cbar=False, ax=axes)\n",
        "    except ValueError:\n",
        "        raise ValueError(\"Confusion matrix values must be integers.\")\n",
        "    heatmap.yaxis.set_ticklabels(heatmap.yaxis.get_ticklabels(), rotation=0, ha='right', fontsize=fontsize)\n",
        "    heatmap.xaxis.set_ticklabels(heatmap.xaxis.get_ticklabels(), rotation=45, ha='right', fontsize=fontsize)\n",
        "    axes.set_ylabel('True label')\n",
        "    axes.set_xlabel('Predicted label')\n",
        "    axes.set_title(\"Confusion Matrix for the class - \" + class_label)"
      ],
      "execution_count": 64,
      "outputs": []
    },
    {
      "cell_type": "code",
      "metadata": {
        "colab": {
          "base_uri": "https://localhost:8080/",
          "height": 513
        },
        "id": "vB0uKeBa93t4",
        "outputId": "0168194b-3bbd-42f9-d081-37c389abd195"
      },
      "source": [
        "fig, ax = plt.subplots(3, 2, figsize=(12, 7))\n",
        "    \n",
        "for axes, cfs_matrix, label in zip(ax.flatten(), vis_arr, labels):\n",
        "    print_confusion_matrix(cfs_matrix, axes, label, [\"N\", \"Y\"])\n",
        "    \n",
        "fig.tight_layout()\n",
        "plt.show()"
      ],
      "execution_count": 65,
      "outputs": [
        {
          "output_type": "display_data",
          "data": {
            "image/png": "[encoded data removed]",
            "text/plain": [
              "<Figure size 864x504 with 6 Axes>"
            ]
          },
          "metadata": {
            "tags": [],
            "needs_background": "light"
          }
        }
      ]
    },
    {
      "cell_type": "markdown",
      "metadata": {
        "id": "C3CL2I70oo9G"
      },
      "source": [
        "As we can see rock is best predicted. This is most likely due to the greatest representation of this genre. "
      ]
    },
    {
      "cell_type": "markdown",
      "metadata": {
        "id": "0IhprH-cokVy"
      },
      "source": [
        "### Multilabel classification conclusion"
      ]
    },
    {
      "cell_type": "markdown",
      "metadata": {
        "id": "xn3cMEMODEFQ"
      },
      "source": [
        "\n",
        "In accordance with the results obtained, we concluded that none of the selected models provides sufficient reliability of predictions. In our opinion, this is due to the imbalance of the dataset and the low representation of various subgenres. Accordingly, such a classification does not make much sense. "
      ]
    }
  ]
}